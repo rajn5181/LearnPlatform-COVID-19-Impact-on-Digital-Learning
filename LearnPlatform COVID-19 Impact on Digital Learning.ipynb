{
  "nbformat": 4,
  "nbformat_minor": 0,
  "metadata": {
    "colab": {
      "name": "Welcome to Colaboratory",
      "provenance": [],
      "collapsed_sections": [],
      "include_colab_link": true
    },
    "kernelspec": {
      "display_name": "Python 3",
      "name": "python3"
    }
  },
  "cells": [
    {
      "cell_type": "markdown",
      "metadata": {
        "id": "view-in-github",
        "colab_type": "text"
      },
      "source": [
        "<a href=\"https://colab.research.google.com/github/rajn5181/LearnPlatform-COVID-19-Impact-on-Digital-Learning/blob/main/LearnPlatform%20COVID-19%20Impact%20on%20Digital%20Learning.ipynb\" target=\"_parent\"><img src=\"https://colab.research.google.com/assets/colab-badge.svg\" alt=\"Open In Colab\"/></a>"
      ]
    },
    {
      "cell_type": "code",
      "metadata": {
        "id": "jS3P6_KilCXt"
      },
      "source": [
        "import pandas as pd\n",
        "import numpy as np\n",
        "import seaborn as sns \n",
        "import matplotlib.pyplot as plt\n",
        "import plotly.express as px\n",
        "%matplotlib inline"
      ],
      "execution_count": 1,
      "outputs": []
    },
    {
      "cell_type": "code",
      "metadata": {
        "colab": {
          "base_uri": "https://localhost:8080/"
        },
        "id": "i_iyUpjJwK3x",
        "outputId": "c3c672db-9ab4-42b3-e20c-03f7ae70a756"
      },
      "source": [
        "!git clone https://github.com/rajn5181/LearnPlatform-COVID-19-Impact-on-Digital-Learning.git"
      ],
      "execution_count": 2,
      "outputs": [
        {
          "output_type": "stream",
          "name": "stdout",
          "text": [
            "fatal: destination path 'LearnPlatform-COVID-19-Impact-on-Digital-Learning' already exists and is not an empty directory.\n"
          ]
        }
      ]
    },
    {
      "cell_type": "code",
      "metadata": {
        "id": "coozMNnmwXh3"
      },
      "source": [
        "district=pd.read_csv('/content/LearnPlatform-COVID-19-Impact-on-Digital-Learning/districts_info[1].csv')\n",
        "products=pd.read_csv('/content/LearnPlatform-COVID-19-Impact-on-Digital-Learning/products_info[1].csv')"
      ],
      "execution_count": 3,
      "outputs": []
    },
    {
      "cell_type": "code",
      "metadata": {
        "id": "iAiLxTvXxyfH",
        "colab": {
          "base_uri": "https://localhost:8080/",
          "height": 203
        },
        "outputId": "3daaf8ab-e280-4892-c479-cfbb9cbd23e0"
      },
      "source": [
        "district.head()"
      ],
      "execution_count": 4,
      "outputs": [
        {
          "output_type": "execute_result",
          "data": {
            "text/html": [
              "<div>\n",
              "<style scoped>\n",
              "    .dataframe tbody tr th:only-of-type {\n",
              "        vertical-align: middle;\n",
              "    }\n",
              "\n",
              "    .dataframe tbody tr th {\n",
              "        vertical-align: top;\n",
              "    }\n",
              "\n",
              "    .dataframe thead th {\n",
              "        text-align: right;\n",
              "    }\n",
              "</style>\n",
              "<table border=\"1\" class=\"dataframe\">\n",
              "  <thead>\n",
              "    <tr style=\"text-align: right;\">\n",
              "      <th></th>\n",
              "      <th>district_id</th>\n",
              "      <th>state</th>\n",
              "      <th>locale</th>\n",
              "      <th>pct_black/hispanic</th>\n",
              "      <th>pct_free/reduced</th>\n",
              "      <th>county_connections_ratio</th>\n",
              "      <th>pp_total_raw</th>\n",
              "    </tr>\n",
              "  </thead>\n",
              "  <tbody>\n",
              "    <tr>\n",
              "      <th>0</th>\n",
              "      <td>8815</td>\n",
              "      <td>Illinois</td>\n",
              "      <td>Suburb</td>\n",
              "      <td>[0, 0.2[</td>\n",
              "      <td>[0, 0.2[</td>\n",
              "      <td>[0.18, 1[</td>\n",
              "      <td>[14000, 16000[</td>\n",
              "    </tr>\n",
              "    <tr>\n",
              "      <th>1</th>\n",
              "      <td>2685</td>\n",
              "      <td>NaN</td>\n",
              "      <td>NaN</td>\n",
              "      <td>NaN</td>\n",
              "      <td>NaN</td>\n",
              "      <td>NaN</td>\n",
              "      <td>NaN</td>\n",
              "    </tr>\n",
              "    <tr>\n",
              "      <th>2</th>\n",
              "      <td>4921</td>\n",
              "      <td>Utah</td>\n",
              "      <td>Suburb</td>\n",
              "      <td>[0, 0.2[</td>\n",
              "      <td>[0.2, 0.4[</td>\n",
              "      <td>[0.18, 1[</td>\n",
              "      <td>[6000, 8000[</td>\n",
              "    </tr>\n",
              "    <tr>\n",
              "      <th>3</th>\n",
              "      <td>3188</td>\n",
              "      <td>NaN</td>\n",
              "      <td>NaN</td>\n",
              "      <td>NaN</td>\n",
              "      <td>NaN</td>\n",
              "      <td>NaN</td>\n",
              "      <td>NaN</td>\n",
              "    </tr>\n",
              "    <tr>\n",
              "      <th>4</th>\n",
              "      <td>2238</td>\n",
              "      <td>NaN</td>\n",
              "      <td>NaN</td>\n",
              "      <td>NaN</td>\n",
              "      <td>NaN</td>\n",
              "      <td>NaN</td>\n",
              "      <td>NaN</td>\n",
              "    </tr>\n",
              "  </tbody>\n",
              "</table>\n",
              "</div>"
            ],
            "text/plain": [
              "   district_id     state  ... county_connections_ratio    pp_total_raw\n",
              "0         8815  Illinois  ...                [0.18, 1[  [14000, 16000[\n",
              "1         2685       NaN  ...                      NaN             NaN\n",
              "2         4921      Utah  ...                [0.18, 1[    [6000, 8000[\n",
              "3         3188       NaN  ...                      NaN             NaN\n",
              "4         2238       NaN  ...                      NaN             NaN\n",
              "\n",
              "[5 rows x 7 columns]"
            ]
          },
          "metadata": {},
          "execution_count": 4
        }
      ]
    },
    {
      "cell_type": "code",
      "metadata": {
        "id": "DMtJiVjqx2Jj",
        "colab": {
          "base_uri": "https://localhost:8080/",
          "height": 203
        },
        "outputId": "a3d19a34-4aee-4a78-85a8-f4f23e81a336"
      },
      "source": [
        "products.head()"
      ],
      "execution_count": 5,
      "outputs": [
        {
          "output_type": "execute_result",
          "data": {
            "text/html": [
              "<div>\n",
              "<style scoped>\n",
              "    .dataframe tbody tr th:only-of-type {\n",
              "        vertical-align: middle;\n",
              "    }\n",
              "\n",
              "    .dataframe tbody tr th {\n",
              "        vertical-align: top;\n",
              "    }\n",
              "\n",
              "    .dataframe thead th {\n",
              "        text-align: right;\n",
              "    }\n",
              "</style>\n",
              "<table border=\"1\" class=\"dataframe\">\n",
              "  <thead>\n",
              "    <tr style=\"text-align: right;\">\n",
              "      <th></th>\n",
              "      <th>LP ID</th>\n",
              "      <th>URL</th>\n",
              "      <th>Product Name</th>\n",
              "      <th>Provider/Company Name</th>\n",
              "      <th>Sector(s)</th>\n",
              "      <th>Primary Essential Function</th>\n",
              "    </tr>\n",
              "  </thead>\n",
              "  <tbody>\n",
              "    <tr>\n",
              "      <th>0</th>\n",
              "      <td>13117</td>\n",
              "      <td>https://www.splashmath.com</td>\n",
              "      <td>SplashLearn</td>\n",
              "      <td>StudyPad Inc.</td>\n",
              "      <td>PreK-12</td>\n",
              "      <td>LC - Digital Learning Platforms</td>\n",
              "    </tr>\n",
              "    <tr>\n",
              "      <th>1</th>\n",
              "      <td>66933</td>\n",
              "      <td>https://abcmouse.com</td>\n",
              "      <td>ABCmouse.com</td>\n",
              "      <td>Age of Learning, Inc</td>\n",
              "      <td>PreK-12</td>\n",
              "      <td>LC - Digital Learning Platforms</td>\n",
              "    </tr>\n",
              "    <tr>\n",
              "      <th>2</th>\n",
              "      <td>50479</td>\n",
              "      <td>https://www.abcya.com</td>\n",
              "      <td>ABCya!</td>\n",
              "      <td>ABCya.com, LLC</td>\n",
              "      <td>PreK-12</td>\n",
              "      <td>LC - Sites, Resources &amp; Reference - Games &amp; Si...</td>\n",
              "    </tr>\n",
              "    <tr>\n",
              "      <th>3</th>\n",
              "      <td>92993</td>\n",
              "      <td>http://www.aleks.com/</td>\n",
              "      <td>ALEKS</td>\n",
              "      <td>McGraw-Hill PreK-12</td>\n",
              "      <td>PreK-12; Higher Ed</td>\n",
              "      <td>LC - Digital Learning Platforms</td>\n",
              "    </tr>\n",
              "    <tr>\n",
              "      <th>4</th>\n",
              "      <td>73104</td>\n",
              "      <td>https://www.achieve3000.com/</td>\n",
              "      <td>Achieve3000</td>\n",
              "      <td>Achieve3000</td>\n",
              "      <td>PreK-12</td>\n",
              "      <td>LC - Digital Learning Platforms</td>\n",
              "    </tr>\n",
              "  </tbody>\n",
              "</table>\n",
              "</div>"
            ],
            "text/plain": [
              "   LP ID  ...                         Primary Essential Function\n",
              "0  13117  ...                    LC - Digital Learning Platforms\n",
              "1  66933  ...                    LC - Digital Learning Platforms\n",
              "2  50479  ...  LC - Sites, Resources & Reference - Games & Si...\n",
              "3  92993  ...                    LC - Digital Learning Platforms\n",
              "4  73104  ...                    LC - Digital Learning Platforms\n",
              "\n",
              "[5 rows x 6 columns]"
            ]
          },
          "metadata": {},
          "execution_count": 5
        }
      ]
    },
    {
      "cell_type": "code",
      "metadata": {
        "id": "TPmbrFaryAYB",
        "colab": {
          "base_uri": "https://localhost:8080/"
        },
        "outputId": "c3318269-cbd4-48ba-9adf-404832f478c2"
      },
      "source": [
        "district.info()"
      ],
      "execution_count": 6,
      "outputs": [
        {
          "output_type": "stream",
          "name": "stdout",
          "text": [
            "<class 'pandas.core.frame.DataFrame'>\n",
            "RangeIndex: 233 entries, 0 to 232\n",
            "Data columns (total 7 columns):\n",
            " #   Column                    Non-Null Count  Dtype \n",
            "---  ------                    --------------  ----- \n",
            " 0   district_id               233 non-null    int64 \n",
            " 1   state                     176 non-null    object\n",
            " 2   locale                    176 non-null    object\n",
            " 3   pct_black/hispanic        176 non-null    object\n",
            " 4   pct_free/reduced          148 non-null    object\n",
            " 5   county_connections_ratio  162 non-null    object\n",
            " 6   pp_total_raw              118 non-null    object\n",
            "dtypes: int64(1), object(6)\n",
            "memory usage: 12.9+ KB\n"
          ]
        }
      ]
    },
    {
      "cell_type": "code",
      "metadata": {
        "id": "jIU3gpXFyseo",
        "colab": {
          "base_uri": "https://localhost:8080/"
        },
        "outputId": "7fcacf34-04c5-4a0d-9694-b0bd18d01e82"
      },
      "source": [
        "district.shape"
      ],
      "execution_count": 7,
      "outputs": [
        {
          "output_type": "execute_result",
          "data": {
            "text/plain": [
              "(233, 7)"
            ]
          },
          "metadata": {},
          "execution_count": 7
        }
      ]
    },
    {
      "cell_type": "code",
      "metadata": {
        "id": "OYbh7EpByzq4",
        "colab": {
          "base_uri": "https://localhost:8080/"
        },
        "outputId": "f314485e-37af-40d4-ebf0-b39491899684"
      },
      "source": [
        "district.describe"
      ],
      "execution_count": 8,
      "outputs": [
        {
          "output_type": "execute_result",
          "data": {
            "text/plain": [
              "<bound method NDFrame.describe of      district_id       state  ... county_connections_ratio    pp_total_raw\n",
              "0           8815    Illinois  ...                [0.18, 1[  [14000, 16000[\n",
              "1           2685         NaN  ...                      NaN             NaN\n",
              "2           4921        Utah  ...                [0.18, 1[    [6000, 8000[\n",
              "3           3188         NaN  ...                      NaN             NaN\n",
              "4           2238         NaN  ...                      NaN             NaN\n",
              "..           ...         ...  ...                      ...             ...\n",
              "228         9515    New York  ...                [0.18, 1[  [18000, 20000[\n",
              "229         8103   Tennessee  ...                [0.18, 1[   [8000, 10000[\n",
              "230         4929    Virginia  ...                [0.18, 1[  [12000, 14000[\n",
              "231         7975  California  ...                [0.18, 1[             NaN\n",
              "232         7164  California  ...                [0.18, 1[             NaN\n",
              "\n",
              "[233 rows x 7 columns]>"
            ]
          },
          "metadata": {},
          "execution_count": 8
        }
      ]
    },
    {
      "cell_type": "code",
      "metadata": {
        "id": "JfbGlYKIzMU2",
        "colab": {
          "base_uri": "https://localhost:8080/"
        },
        "outputId": "c1050966-c398-4e6d-ab82-be34c757267f"
      },
      "source": [
        "district.isnull().sum(axis=0).sort_values()"
      ],
      "execution_count": 9,
      "outputs": [
        {
          "output_type": "execute_result",
          "data": {
            "text/plain": [
              "district_id                   0\n",
              "state                        57\n",
              "locale                       57\n",
              "pct_black/hispanic           57\n",
              "county_connections_ratio     71\n",
              "pct_free/reduced             85\n",
              "pp_total_raw                115\n",
              "dtype: int64"
            ]
          },
          "metadata": {},
          "execution_count": 9
        }
      ]
    },
    {
      "cell_type": "code",
      "metadata": {
        "id": "0t8fByhcdUHM"
      },
      "source": [
        "d_rows=district.isnull().sum(axis=1).sort_values(ascending=False)"
      ],
      "execution_count": 10,
      "outputs": []
    },
    {
      "cell_type": "code",
      "metadata": {
        "id": "NYAQbgPDzVIj",
        "colab": {
          "base_uri": "https://localhost:8080/"
        },
        "outputId": "b0338ba3-9c3c-4d84-b6dc-0652f359c05a"
      },
      "source": [
        "district.columns"
      ],
      "execution_count": 11,
      "outputs": [
        {
          "output_type": "execute_result",
          "data": {
            "text/plain": [
              "Index(['district_id', 'state', 'locale', 'pct_black/hispanic',\n",
              "       'pct_free/reduced', 'county_connections_ratio', 'pp_total_raw'],\n",
              "      dtype='object')"
            ]
          },
          "metadata": {},
          "execution_count": 11
        }
      ]
    },
    {
      "cell_type": "code",
      "metadata": {
        "id": "RnWSiejbIOBE"
      },
      "source": [
        "district=district.drop(['pp_total_raw'],axis=1)\n"
      ],
      "execution_count": 12,
      "outputs": []
    },
    {
      "cell_type": "code",
      "metadata": {
        "colab": {
          "base_uri": "https://localhost:8080/",
          "height": 203
        },
        "id": "u9Du7nEmKD7Z",
        "outputId": "5eea586b-1337-40bb-b435-80c285235c76"
      },
      "source": [
        "district.head()"
      ],
      "execution_count": 13,
      "outputs": [
        {
          "output_type": "execute_result",
          "data": {
            "text/html": [
              "<div>\n",
              "<style scoped>\n",
              "    .dataframe tbody tr th:only-of-type {\n",
              "        vertical-align: middle;\n",
              "    }\n",
              "\n",
              "    .dataframe tbody tr th {\n",
              "        vertical-align: top;\n",
              "    }\n",
              "\n",
              "    .dataframe thead th {\n",
              "        text-align: right;\n",
              "    }\n",
              "</style>\n",
              "<table border=\"1\" class=\"dataframe\">\n",
              "  <thead>\n",
              "    <tr style=\"text-align: right;\">\n",
              "      <th></th>\n",
              "      <th>district_id</th>\n",
              "      <th>state</th>\n",
              "      <th>locale</th>\n",
              "      <th>pct_black/hispanic</th>\n",
              "      <th>pct_free/reduced</th>\n",
              "      <th>county_connections_ratio</th>\n",
              "    </tr>\n",
              "  </thead>\n",
              "  <tbody>\n",
              "    <tr>\n",
              "      <th>0</th>\n",
              "      <td>8815</td>\n",
              "      <td>Illinois</td>\n",
              "      <td>Suburb</td>\n",
              "      <td>[0, 0.2[</td>\n",
              "      <td>[0, 0.2[</td>\n",
              "      <td>[0.18, 1[</td>\n",
              "    </tr>\n",
              "    <tr>\n",
              "      <th>1</th>\n",
              "      <td>2685</td>\n",
              "      <td>NaN</td>\n",
              "      <td>NaN</td>\n",
              "      <td>NaN</td>\n",
              "      <td>NaN</td>\n",
              "      <td>NaN</td>\n",
              "    </tr>\n",
              "    <tr>\n",
              "      <th>2</th>\n",
              "      <td>4921</td>\n",
              "      <td>Utah</td>\n",
              "      <td>Suburb</td>\n",
              "      <td>[0, 0.2[</td>\n",
              "      <td>[0.2, 0.4[</td>\n",
              "      <td>[0.18, 1[</td>\n",
              "    </tr>\n",
              "    <tr>\n",
              "      <th>3</th>\n",
              "      <td>3188</td>\n",
              "      <td>NaN</td>\n",
              "      <td>NaN</td>\n",
              "      <td>NaN</td>\n",
              "      <td>NaN</td>\n",
              "      <td>NaN</td>\n",
              "    </tr>\n",
              "    <tr>\n",
              "      <th>4</th>\n",
              "      <td>2238</td>\n",
              "      <td>NaN</td>\n",
              "      <td>NaN</td>\n",
              "      <td>NaN</td>\n",
              "      <td>NaN</td>\n",
              "      <td>NaN</td>\n",
              "    </tr>\n",
              "  </tbody>\n",
              "</table>\n",
              "</div>"
            ],
            "text/plain": [
              "   district_id     state  ... pct_free/reduced county_connections_ratio\n",
              "0         8815  Illinois  ...         [0, 0.2[                [0.18, 1[\n",
              "1         2685       NaN  ...              NaN                      NaN\n",
              "2         4921      Utah  ...       [0.2, 0.4[                [0.18, 1[\n",
              "3         3188       NaN  ...              NaN                      NaN\n",
              "4         2238       NaN  ...              NaN                      NaN\n",
              "\n",
              "[5 rows x 6 columns]"
            ]
          },
          "metadata": {},
          "execution_count": 13
        }
      ]
    },
    {
      "cell_type": "code",
      "metadata": {
        "colab": {
          "base_uri": "https://localhost:8080/"
        },
        "id": "86k-TTqJKJ2V",
        "outputId": "06e99ea4-f63f-4fb6-f7db-1ec83f287d6c"
      },
      "source": [
        "district_numeric = district.select_dtypes(include=[np.number])\n",
        "numeric_cols = district_numeric.columns.values\n",
        "print(numeric_cols)"
      ],
      "execution_count": 14,
      "outputs": [
        {
          "output_type": "stream",
          "name": "stdout",
          "text": [
            "['district_id']\n"
          ]
        }
      ]
    },
    {
      "cell_type": "code",
      "metadata": {
        "colab": {
          "base_uri": "https://localhost:8080/"
        },
        "id": "Vv6cuR-XLPKB",
        "outputId": "b26b16af-876e-4494-92c6-f7544fb3610c"
      },
      "source": [
        "district_numeric = district.select_dtypes(exclude=[np.number])\n",
        "numeric_cols = district_numeric.columns.values\n",
        "print(numeric_cols)"
      ],
      "execution_count": 15,
      "outputs": [
        {
          "output_type": "stream",
          "name": "stdout",
          "text": [
            "['state' 'locale' 'pct_black/hispanic' 'pct_free/reduced'\n",
            " 'county_connections_ratio']\n"
          ]
        }
      ]
    },
    {
      "cell_type": "code",
      "metadata": {
        "colab": {
          "base_uri": "https://localhost:8080/"
        },
        "id": "YF_1t_ycOgzd",
        "outputId": "73e4c271-4da0-48bd-b8aa-1232f49af258"
      },
      "source": [
        "for col in district.columns:\n",
        "    pct_missing = np.mean(district[col].isnull())\n",
        "    print('{} - {}%'.format(col, round(pct_missing*100)))"
      ],
      "execution_count": 16,
      "outputs": [
        {
          "output_type": "stream",
          "name": "stdout",
          "text": [
            "district_id - 0%\n",
            "state - 24%\n",
            "locale - 24%\n",
            "pct_black/hispanic - 24%\n",
            "pct_free/reduced - 36%\n",
            "county_connections_ratio - 30%\n"
          ]
        }
      ]
    },
    {
      "cell_type": "code",
      "metadata": {
        "colab": {
          "base_uri": "https://localhost:8080/"
        },
        "id": "XuAH_NCkQ6mu",
        "outputId": "c21c3582-7069-44f4-c9e4-1c5ee6398bd0"
      },
      "source": [
        "for col in products.columns:\n",
        "    pct_missing = np.mean(products[col].isnull())\n",
        "    print('{} - {}%'.format(col, round(pct_missing*100)))"
      ],
      "execution_count": 17,
      "outputs": [
        {
          "output_type": "stream",
          "name": "stdout",
          "text": [
            "LP ID - 0%\n",
            "URL - 0%\n",
            "Product Name - 0%\n",
            "Provider/Company Name - 0%\n",
            "Sector(s) - 5%\n",
            "Primary Essential Function - 5%\n"
          ]
        }
      ]
    },
    {
      "cell_type": "code",
      "metadata": {
        "colab": {
          "base_uri": "https://localhost:8080/"
        },
        "id": "72T5w7XFRXsh",
        "outputId": "53ae4e6e-e3a4-43eb-f985-bcb784eb46f5"
      },
      "source": [
        "products['LP ID'].value_counts().sum()"
      ],
      "execution_count": 18,
      "outputs": [
        {
          "output_type": "execute_result",
          "data": {
            "text/plain": [
              "372"
            ]
          },
          "metadata": {},
          "execution_count": 18
        }
      ]
    },
    {
      "cell_type": "code",
      "metadata": {
        "id": "3y0-bNx9f7Uw"
      },
      "source": [
        "df=district.isnull().any(axis=1)"
      ],
      "execution_count": 19,
      "outputs": []
    },
    {
      "cell_type": "code",
      "metadata": {
        "colab": {
          "base_uri": "https://localhost:8080/"
        },
        "id": "ccFIOTafgIHE",
        "outputId": "ed89a2b7-354b-46dc-a44f-fe15920bc4f8"
      },
      "source": [
        "df.index"
      ],
      "execution_count": 20,
      "outputs": [
        {
          "output_type": "execute_result",
          "data": {
            "text/plain": [
              "RangeIndex(start=0, stop=233, step=1)"
            ]
          },
          "metadata": {},
          "execution_count": 20
        }
      ]
    },
    {
      "cell_type": "code",
      "metadata": {
        "colab": {
          "base_uri": "https://localhost:8080/"
        },
        "id": "Z0kxBycagLFc",
        "outputId": "9a7f6755-aea1-41f7-9277-ea5158f61c05"
      },
      "source": [
        "df.values"
      ],
      "execution_count": 21,
      "outputs": [
        {
          "output_type": "execute_result",
          "data": {
            "text/plain": [
              "array([False,  True, False,  True,  True, False, False, False, False,\n",
              "       False,  True, False, False,  True,  True, False, False,  True,\n",
              "       False,  True, False, False, False,  True, False,  True, False,\n",
              "       False,  True,  True,  True,  True,  True, False, False, False,\n",
              "       False, False, False,  True,  True, False, False,  True, False,\n",
              "       False,  True, False, False,  True, False, False, False, False,\n",
              "       False, False, False, False, False, False,  True, False, False,\n",
              "        True, False, False, False, False,  True, False,  True, False,\n",
              "       False,  True,  True,  True,  True,  True, False, False, False,\n",
              "        True, False, False, False, False,  True,  True,  True, False,\n",
              "       False, False,  True,  True, False, False,  True, False, False,\n",
              "        True,  True,  True, False,  True, False, False,  True,  True,\n",
              "        True, False,  True, False, False, False, False, False, False,\n",
              "        True, False, False,  True, False, False, False, False,  True,\n",
              "       False,  True, False, False, False, False, False,  True, False,\n",
              "       False,  True,  True,  True, False, False, False, False,  True,\n",
              "       False,  True, False, False, False,  True, False, False, False,\n",
              "        True, False,  True,  True, False,  True,  True,  True, False,\n",
              "        True, False,  True, False,  True,  True,  True, False, False,\n",
              "       False, False, False,  True, False,  True,  True, False, False,\n",
              "       False,  True,  True, False, False,  True,  True,  True,  True,\n",
              "        True,  True, False, False,  True, False, False, False, False,\n",
              "       False,  True, False, False, False,  True, False,  True, False,\n",
              "        True,  True,  True,  True,  True,  True, False, False,  True,\n",
              "        True, False, False,  True, False, False,  True,  True, False,\n",
              "        True,  True, False, False,  True, False, False, False])"
            ]
          },
          "metadata": {},
          "execution_count": 21
        }
      ]
    },
    {
      "cell_type": "code",
      "metadata": {
        "colab": {
          "base_uri": "https://localhost:8080/"
        },
        "id": "MESl3SwXgOSf",
        "outputId": "22bda26a-e6ed-4fb9-d394-1108e01e6715"
      },
      "source": [
        "df.index[df.values]"
      ],
      "execution_count": 22,
      "outputs": [
        {
          "output_type": "execute_result",
          "data": {
            "text/plain": [
              "Int64Index([  1,   3,   4,  10,  13,  14,  17,  19,  23,  25,  28,  29,  30,\n",
              "             31,  32,  39,  40,  43,  46,  49,  60,  63,  68,  70,  73,  74,\n",
              "             75,  76,  77,  81,  86,  87,  88,  92,  93,  96,  99, 100, 101,\n",
              "            103, 106, 107, 108, 110, 117, 120, 125, 127, 133, 136, 137, 138,\n",
              "            143, 145, 149, 153, 155, 156, 158, 159, 160, 162, 164, 166, 167,\n",
              "            168, 174, 176, 177, 181, 182, 185, 186, 187, 188, 189, 190, 193,\n",
              "            199, 203, 205, 207, 208, 209, 210, 211, 212, 215, 216, 219, 222,\n",
              "            223, 225, 226, 229],\n",
              "           dtype='int64')"
            ]
          },
          "metadata": {},
          "execution_count": 22
        }
      ]
    },
    {
      "cell_type": "code",
      "metadata": {
        "colab": {
          "base_uri": "https://localhost:8080/"
        },
        "id": "tHrt6cqxhuqh",
        "outputId": "1f0ceb1c-2691-4f6f-ca46-d19495348076"
      },
      "source": [
        "index=df.index[df.values]\n",
        "index"
      ],
      "execution_count": 23,
      "outputs": [
        {
          "output_type": "execute_result",
          "data": {
            "text/plain": [
              "Int64Index([  1,   3,   4,  10,  13,  14,  17,  19,  23,  25,  28,  29,  30,\n",
              "             31,  32,  39,  40,  43,  46,  49,  60,  63,  68,  70,  73,  74,\n",
              "             75,  76,  77,  81,  86,  87,  88,  92,  93,  96,  99, 100, 101,\n",
              "            103, 106, 107, 108, 110, 117, 120, 125, 127, 133, 136, 137, 138,\n",
              "            143, 145, 149, 153, 155, 156, 158, 159, 160, 162, 164, 166, 167,\n",
              "            168, 174, 176, 177, 181, 182, 185, 186, 187, 188, 189, 190, 193,\n",
              "            199, 203, 205, 207, 208, 209, 210, 211, 212, 215, 216, 219, 222,\n",
              "            223, 225, 226, 229],\n",
              "           dtype='int64')"
            ]
          },
          "metadata": {},
          "execution_count": 23
        }
      ]
    },
    {
      "cell_type": "code",
      "metadata": {
        "colab": {
          "base_uri": "https://localhost:8080/",
          "height": 417
        },
        "id": "SCiJnUfBkAVR",
        "outputId": "602a9544-be5d-4c6d-baed-70bf3602ffa5"
      },
      "source": [
        "district.iloc[index,:]  #rows having atleast one missing values"
      ],
      "execution_count": 24,
      "outputs": [
        {
          "output_type": "execute_result",
          "data": {
            "text/html": [
              "<div>\n",
              "<style scoped>\n",
              "    .dataframe tbody tr th:only-of-type {\n",
              "        vertical-align: middle;\n",
              "    }\n",
              "\n",
              "    .dataframe tbody tr th {\n",
              "        vertical-align: top;\n",
              "    }\n",
              "\n",
              "    .dataframe thead th {\n",
              "        text-align: right;\n",
              "    }\n",
              "</style>\n",
              "<table border=\"1\" class=\"dataframe\">\n",
              "  <thead>\n",
              "    <tr style=\"text-align: right;\">\n",
              "      <th></th>\n",
              "      <th>district_id</th>\n",
              "      <th>state</th>\n",
              "      <th>locale</th>\n",
              "      <th>pct_black/hispanic</th>\n",
              "      <th>pct_free/reduced</th>\n",
              "      <th>county_connections_ratio</th>\n",
              "    </tr>\n",
              "  </thead>\n",
              "  <tbody>\n",
              "    <tr>\n",
              "      <th>1</th>\n",
              "      <td>2685</td>\n",
              "      <td>NaN</td>\n",
              "      <td>NaN</td>\n",
              "      <td>NaN</td>\n",
              "      <td>NaN</td>\n",
              "      <td>NaN</td>\n",
              "    </tr>\n",
              "    <tr>\n",
              "      <th>3</th>\n",
              "      <td>3188</td>\n",
              "      <td>NaN</td>\n",
              "      <td>NaN</td>\n",
              "      <td>NaN</td>\n",
              "      <td>NaN</td>\n",
              "      <td>NaN</td>\n",
              "    </tr>\n",
              "    <tr>\n",
              "      <th>4</th>\n",
              "      <td>2238</td>\n",
              "      <td>NaN</td>\n",
              "      <td>NaN</td>\n",
              "      <td>NaN</td>\n",
              "      <td>NaN</td>\n",
              "      <td>NaN</td>\n",
              "    </tr>\n",
              "    <tr>\n",
              "      <th>10</th>\n",
              "      <td>1044</td>\n",
              "      <td>Missouri</td>\n",
              "      <td>Suburb</td>\n",
              "      <td>[0, 0.2[</td>\n",
              "      <td>[0, 0.2[</td>\n",
              "      <td>NaN</td>\n",
              "    </tr>\n",
              "    <tr>\n",
              "      <th>13</th>\n",
              "      <td>5527</td>\n",
              "      <td>Massachusetts</td>\n",
              "      <td>Suburb</td>\n",
              "      <td>[0, 0.2[</td>\n",
              "      <td>NaN</td>\n",
              "      <td>NaN</td>\n",
              "    </tr>\n",
              "    <tr>\n",
              "      <th>...</th>\n",
              "      <td>...</td>\n",
              "      <td>...</td>\n",
              "      <td>...</td>\n",
              "      <td>...</td>\n",
              "      <td>...</td>\n",
              "      <td>...</td>\n",
              "    </tr>\n",
              "    <tr>\n",
              "      <th>222</th>\n",
              "      <td>9463</td>\n",
              "      <td>NaN</td>\n",
              "      <td>NaN</td>\n",
              "      <td>NaN</td>\n",
              "      <td>NaN</td>\n",
              "      <td>NaN</td>\n",
              "    </tr>\n",
              "    <tr>\n",
              "      <th>223</th>\n",
              "      <td>9303</td>\n",
              "      <td>Massachusetts</td>\n",
              "      <td>Suburb</td>\n",
              "      <td>[0, 0.2[</td>\n",
              "      <td>NaN</td>\n",
              "      <td>[0.18, 1[</td>\n",
              "    </tr>\n",
              "    <tr>\n",
              "      <th>225</th>\n",
              "      <td>1965</td>\n",
              "      <td>Massachusetts</td>\n",
              "      <td>Suburb</td>\n",
              "      <td>[0, 0.2[</td>\n",
              "      <td>NaN</td>\n",
              "      <td>[0.18, 1[</td>\n",
              "    </tr>\n",
              "    <tr>\n",
              "      <th>226</th>\n",
              "      <td>5882</td>\n",
              "      <td>Massachusetts</td>\n",
              "      <td>Suburb</td>\n",
              "      <td>[0, 0.2[</td>\n",
              "      <td>NaN</td>\n",
              "      <td>[0.18, 1[</td>\n",
              "    </tr>\n",
              "    <tr>\n",
              "      <th>229</th>\n",
              "      <td>8103</td>\n",
              "      <td>Tennessee</td>\n",
              "      <td>Rural</td>\n",
              "      <td>[0.2, 0.4[</td>\n",
              "      <td>NaN</td>\n",
              "      <td>[0.18, 1[</td>\n",
              "    </tr>\n",
              "  </tbody>\n",
              "</table>\n",
              "<p>95 rows × 6 columns</p>\n",
              "</div>"
            ],
            "text/plain": [
              "     district_id          state  ... pct_free/reduced county_connections_ratio\n",
              "1           2685            NaN  ...              NaN                      NaN\n",
              "3           3188            NaN  ...              NaN                      NaN\n",
              "4           2238            NaN  ...              NaN                      NaN\n",
              "10          1044       Missouri  ...         [0, 0.2[                      NaN\n",
              "13          5527  Massachusetts  ...              NaN                      NaN\n",
              "..           ...            ...  ...              ...                      ...\n",
              "222         9463            NaN  ...              NaN                      NaN\n",
              "223         9303  Massachusetts  ...              NaN                [0.18, 1[\n",
              "225         1965  Massachusetts  ...              NaN                [0.18, 1[\n",
              "226         5882  Massachusetts  ...              NaN                [0.18, 1[\n",
              "229         8103      Tennessee  ...              NaN                [0.18, 1[\n",
              "\n",
              "[95 rows x 6 columns]"
            ]
          },
          "metadata": {},
          "execution_count": 24
        }
      ]
    },
    {
      "cell_type": "code",
      "metadata": {
        "colab": {
          "base_uri": "https://localhost:8080/",
          "height": 49
        },
        "id": "kGA_zI7XkyS_",
        "outputId": "ed763886-9ec4-4531-ceec-fa03beb16c59"
      },
      "source": [
        "district[district.isnull().sum(axis=1)>4]    #missing values of more than four missing values"
      ],
      "execution_count": 41,
      "outputs": [
        {
          "output_type": "execute_result",
          "data": {
            "text/html": [
              "<div>\n",
              "<style scoped>\n",
              "    .dataframe tbody tr th:only-of-type {\n",
              "        vertical-align: middle;\n",
              "    }\n",
              "\n",
              "    .dataframe tbody tr th {\n",
              "        vertical-align: top;\n",
              "    }\n",
              "\n",
              "    .dataframe thead th {\n",
              "        text-align: right;\n",
              "    }\n",
              "</style>\n",
              "<table border=\"1\" class=\"dataframe\">\n",
              "  <thead>\n",
              "    <tr style=\"text-align: right;\">\n",
              "      <th></th>\n",
              "      <th>district_id</th>\n",
              "      <th>state</th>\n",
              "      <th>locale</th>\n",
              "    </tr>\n",
              "  </thead>\n",
              "  <tbody>\n",
              "  </tbody>\n",
              "</table>\n",
              "</div>"
            ],
            "text/plain": [
              "Empty DataFrame\n",
              "Columns: [district_id, state, locale]\n",
              "Index: []"
            ]
          },
          "metadata": {},
          "execution_count": 41
        }
      ]
    },
    {
      "cell_type": "code",
      "metadata": {
        "colab": {
          "base_uri": "https://localhost:8080/"
        },
        "id": "Qn7Oy3oBpgoM",
        "outputId": "d668b722-65ab-4466-f890-2524f532eb15"
      },
      "source": [
        "len(district[district.isnull().sum(axis=1)>4])/len(district)*100   #percentage of data with missing value more than ~25%"
      ],
      "execution_count": 26,
      "outputs": [
        {
          "output_type": "execute_result",
          "data": {
            "text/plain": [
              "24.463519313304722"
            ]
          },
          "metadata": {},
          "execution_count": 26
        }
      ]
    },
    {
      "cell_type": "code",
      "metadata": {
        "id": "dpfd6-P5p6SD"
      },
      "source": [
        "district=district[district.isnull().sum(axis=1)<5]"
      ],
      "execution_count": 27,
      "outputs": []
    },
    {
      "cell_type": "code",
      "metadata": {
        "colab": {
          "base_uri": "https://localhost:8080/"
        },
        "id": "KavADL0srAHQ",
        "outputId": "b39d62e4-e689-46b7-b7bb-8baa7fc65833"
      },
      "source": [
        "for col in district.columns:\n",
        "  pct_missing=np.mean(district[col].isnull())\n",
        "  print('{}--{}%'.format(col,round(pct_missing)*100))"
      ],
      "execution_count": 28,
      "outputs": [
        {
          "output_type": "stream",
          "name": "stdout",
          "text": [
            "district_id--0%\n",
            "state--0%\n",
            "locale--0%\n",
            "pct_black/hispanic--0%\n",
            "pct_free/reduced--0%\n",
            "county_connections_ratio--0%\n"
          ]
        }
      ]
    },
    {
      "cell_type": "code",
      "metadata": {
        "colab": {
          "base_uri": "https://localhost:8080/"
        },
        "id": "4uq6mo0htB74",
        "outputId": "b1bddddd-cdab-4fff-bcf4-910554951f94"
      },
      "source": [
        "district.isnull().sum()/len(district)*100"
      ],
      "execution_count": 29,
      "outputs": [
        {
          "output_type": "execute_result",
          "data": {
            "text/plain": [
              "district_id                  0.000000\n",
              "state                        0.000000\n",
              "locale                       0.000000\n",
              "pct_black/hispanic           0.000000\n",
              "pct_free/reduced            15.909091\n",
              "county_connections_ratio     7.954545\n",
              "dtype: float64"
            ]
          },
          "metadata": {},
          "execution_count": 29
        }
      ]
    },
    {
      "cell_type": "code",
      "metadata": {
        "colab": {
          "base_uri": "https://localhost:8080/",
          "height": 203
        },
        "id": "hbVnsyR6tfBr",
        "outputId": "511dc055-1797-4862-d3cd-3c0eccd361bd"
      },
      "source": [
        "district=pd.DataFrame(district,columns=['district_id','state','locale'])\n",
        "district.reset_index().head()"
      ],
      "execution_count": 30,
      "outputs": [
        {
          "output_type": "execute_result",
          "data": {
            "text/html": [
              "<div>\n",
              "<style scoped>\n",
              "    .dataframe tbody tr th:only-of-type {\n",
              "        vertical-align: middle;\n",
              "    }\n",
              "\n",
              "    .dataframe tbody tr th {\n",
              "        vertical-align: top;\n",
              "    }\n",
              "\n",
              "    .dataframe thead th {\n",
              "        text-align: right;\n",
              "    }\n",
              "</style>\n",
              "<table border=\"1\" class=\"dataframe\">\n",
              "  <thead>\n",
              "    <tr style=\"text-align: right;\">\n",
              "      <th></th>\n",
              "      <th>index</th>\n",
              "      <th>district_id</th>\n",
              "      <th>state</th>\n",
              "      <th>locale</th>\n",
              "    </tr>\n",
              "  </thead>\n",
              "  <tbody>\n",
              "    <tr>\n",
              "      <th>0</th>\n",
              "      <td>0</td>\n",
              "      <td>8815</td>\n",
              "      <td>Illinois</td>\n",
              "      <td>Suburb</td>\n",
              "    </tr>\n",
              "    <tr>\n",
              "      <th>1</th>\n",
              "      <td>2</td>\n",
              "      <td>4921</td>\n",
              "      <td>Utah</td>\n",
              "      <td>Suburb</td>\n",
              "    </tr>\n",
              "    <tr>\n",
              "      <th>2</th>\n",
              "      <td>5</td>\n",
              "      <td>5987</td>\n",
              "      <td>Wisconsin</td>\n",
              "      <td>Suburb</td>\n",
              "    </tr>\n",
              "    <tr>\n",
              "      <th>3</th>\n",
              "      <td>6</td>\n",
              "      <td>3710</td>\n",
              "      <td>Utah</td>\n",
              "      <td>Suburb</td>\n",
              "    </tr>\n",
              "    <tr>\n",
              "      <th>4</th>\n",
              "      <td>7</td>\n",
              "      <td>7177</td>\n",
              "      <td>North Carolina</td>\n",
              "      <td>Suburb</td>\n",
              "    </tr>\n",
              "  </tbody>\n",
              "</table>\n",
              "</div>"
            ],
            "text/plain": [
              "   index  district_id           state  locale\n",
              "0      0         8815        Illinois  Suburb\n",
              "1      2         4921            Utah  Suburb\n",
              "2      5         5987       Wisconsin  Suburb\n",
              "3      6         3710            Utah  Suburb\n",
              "4      7         7177  North Carolina  Suburb"
            ]
          },
          "metadata": {},
          "execution_count": 30
        }
      ]
    },
    {
      "cell_type": "code",
      "metadata": {
        "colab": {
          "base_uri": "https://localhost:8080/"
        },
        "id": "lQ2NiGJtvWOv",
        "outputId": "c02e941f-0890-401b-d669-5cbd07a4ba67"
      },
      "source": [
        "products.isnull().sum()/len(products)*100"
      ],
      "execution_count": 31,
      "outputs": [
        {
          "output_type": "execute_result",
          "data": {
            "text/plain": [
              "LP ID                         0.000000\n",
              "URL                           0.000000\n",
              "Product Name                  0.000000\n",
              "Provider/Company Name         0.268817\n",
              "Sector(s)                     5.376344\n",
              "Primary Essential Function    5.376344\n",
              "dtype: float64"
            ]
          },
          "metadata": {},
          "execution_count": 31
        }
      ]
    },
    {
      "cell_type": "code",
      "metadata": {
        "id": "ZDAI1SS8vz9g"
      },
      "source": [
        "products=products.dropna()"
      ],
      "execution_count": 32,
      "outputs": []
    },
    {
      "cell_type": "code",
      "metadata": {
        "colab": {
          "base_uri": "https://localhost:8080/",
          "height": 299
        },
        "id": "LJMd7y_2yJvw",
        "outputId": "5408aeba-df4a-4d0e-fd2f-1a41430f9846"
      },
      "source": [
        "cols=district.columns\n",
        "colours = ['#000099', '#ff0000'] # specify the colours - yellow is missing. red is not missing.\n",
        "sns.heatmap(district[cols].isnull(),cmap=colours)\n",
        "plt.title('Clean data with zero missing value')"
      ],
      "execution_count": 59,
      "outputs": [
        {
          "output_type": "execute_result",
          "data": {
            "text/plain": [
              "Text(0.5, 1.0, 'Clean data with zero missing value')"
            ]
          },
          "metadata": {},
          "execution_count": 59
        },
        {
          "output_type": "display_data",
          "data": {
            "image/png": "[encoded data removed]",
            "text/plain": [
              "<Figure size 432x288 with 2 Axes>"
            ]
          },
          "metadata": {
            "needs_background": "light"
          }
        }
      ]
    },
    {
      "cell_type": "code",
      "metadata": {
        "colab": {
          "base_uri": "https://localhost:8080/",
          "height": 421
        },
        "id": "rFfuwC5gz-C0",
        "outputId": "cd4f793c-29fd-445e-cd94-c4793889967d"
      },
      "source": [
        "cols=products.columns\n",
        "colours=['#ffe552','#ff0000']\n",
        "sns.heatmap(products[cols].isnull(),cmap=colours)\n",
        "plt.title('Clean data with zero missing value')"
      ],
      "execution_count": 60,
      "outputs": [
        {
          "output_type": "execute_result",
          "data": {
            "text/plain": [
              "Text(0.5, 1.0, 'Clean data with zero missing value')"
            ]
          },
          "metadata": {},
          "execution_count": 60
        },
        {
          "output_type": "display_data",
          "data": {
            "image/png": "[encoded data removed]",
            "text/plain": [
              "<Figure size 432x288 with 2 Axes>"
            ]
          },
          "metadata": {
            "needs_background": "light"
          }
        }
      ]
    },
    {
      "cell_type": "code",
      "metadata": {
        "colab": {
          "base_uri": "https://localhost:8080/"
        },
        "id": "UUJPm9IkvIS3",
        "outputId": "8755f2d9-fd23-4667-de49-0b5226d570e5"
      },
      "source": [
        "print(\"District:\",district.shape)\n",
        "print(\"Products:\",products.shape)"
      ],
      "execution_count": 33,
      "outputs": [
        {
          "output_type": "stream",
          "name": "stdout",
          "text": [
            "District: (176, 3)\n",
            "Products: (352, 6)\n"
          ]
        }
      ]
    },
    {
      "cell_type": "code",
      "metadata": {
        "id": "a4QUy8P80KZP"
      },
      "source": [
        "district=district.drop(['level_0','index'],axis=1)"
      ],
      "execution_count": 54,
      "outputs": []
    },
    {
      "cell_type": "code",
      "metadata": {
        "id": "Vky6K3S14so0"
      },
      "source": [
        "products=products.drop(['index'],axis=1)"
      ],
      "execution_count": 55,
      "outputs": []
    },
    {
      "cell_type": "code",
      "metadata": {
        "id": "cJE7wxEkBD6Q",
        "outputId": "7aa119aa-e4ee-483b-ff10-08867fc81b31",
        "colab": {
          "base_uri": "https://localhost:8080/",
          "height": 203
        }
      },
      "source": [
        "district.head()"
      ],
      "execution_count": 75,
      "outputs": [
        {
          "output_type": "execute_result",
          "data": {
            "text/html": [
              "<div>\n",
              "<style scoped>\n",
              "    .dataframe tbody tr th:only-of-type {\n",
              "        vertical-align: middle;\n",
              "    }\n",
              "\n",
              "    .dataframe tbody tr th {\n",
              "        vertical-align: top;\n",
              "    }\n",
              "\n",
              "    .dataframe thead th {\n",
              "        text-align: right;\n",
              "    }\n",
              "</style>\n",
              "<table border=\"1\" class=\"dataframe\">\n",
              "  <thead>\n",
              "    <tr style=\"text-align: right;\">\n",
              "      <th></th>\n",
              "      <th>district_id</th>\n",
              "      <th>state</th>\n",
              "      <th>locale</th>\n",
              "    </tr>\n",
              "  </thead>\n",
              "  <tbody>\n",
              "    <tr>\n",
              "      <th>0</th>\n",
              "      <td>8815</td>\n",
              "      <td>Illinois</td>\n",
              "      <td>Suburb</td>\n",
              "    </tr>\n",
              "    <tr>\n",
              "      <th>1</th>\n",
              "      <td>4921</td>\n",
              "      <td>Utah</td>\n",
              "      <td>Suburb</td>\n",
              "    </tr>\n",
              "    <tr>\n",
              "      <th>2</th>\n",
              "      <td>5987</td>\n",
              "      <td>Wisconsin</td>\n",
              "      <td>Suburb</td>\n",
              "    </tr>\n",
              "    <tr>\n",
              "      <th>3</th>\n",
              "      <td>3710</td>\n",
              "      <td>Utah</td>\n",
              "      <td>Suburb</td>\n",
              "    </tr>\n",
              "    <tr>\n",
              "      <th>4</th>\n",
              "      <td>7177</td>\n",
              "      <td>North Carolina</td>\n",
              "      <td>Suburb</td>\n",
              "    </tr>\n",
              "  </tbody>\n",
              "</table>\n",
              "</div>"
            ],
            "text/plain": [
              "   district_id           state  locale\n",
              "0         8815        Illinois  Suburb\n",
              "1         4921            Utah  Suburb\n",
              "2         5987       Wisconsin  Suburb\n",
              "3         3710            Utah  Suburb\n",
              "4         7177  North Carolina  Suburb"
            ]
          },
          "metadata": {},
          "execution_count": 75
        }
      ]
    },
    {
      "cell_type": "code",
      "metadata": {
        "id": "luGsUnfeBGo1",
        "outputId": "d5af2ffa-9519-4502-dc5d-67aff8d274b6",
        "colab": {
          "base_uri": "https://localhost:8080/",
          "height": 203
        }
      },
      "source": [
        "products.head()"
      ],
      "execution_count": 57,
      "outputs": [
        {
          "output_type": "execute_result",
          "data": {
            "text/html": [
              "<div>\n",
              "<style scoped>\n",
              "    .dataframe tbody tr th:only-of-type {\n",
              "        vertical-align: middle;\n",
              "    }\n",
              "\n",
              "    .dataframe tbody tr th {\n",
              "        vertical-align: top;\n",
              "    }\n",
              "\n",
              "    .dataframe thead th {\n",
              "        text-align: right;\n",
              "    }\n",
              "</style>\n",
              "<table border=\"1\" class=\"dataframe\">\n",
              "  <thead>\n",
              "    <tr style=\"text-align: right;\">\n",
              "      <th></th>\n",
              "      <th>LP ID</th>\n",
              "      <th>URL</th>\n",
              "      <th>Product Name</th>\n",
              "      <th>Provider/Company Name</th>\n",
              "      <th>Sector(s)</th>\n",
              "      <th>Primary Essential Function</th>\n",
              "    </tr>\n",
              "  </thead>\n",
              "  <tbody>\n",
              "    <tr>\n",
              "      <th>0</th>\n",
              "      <td>13117</td>\n",
              "      <td>https://www.splashmath.com</td>\n",
              "      <td>SplashLearn</td>\n",
              "      <td>StudyPad Inc.</td>\n",
              "      <td>PreK-12</td>\n",
              "      <td>LC - Digital Learning Platforms</td>\n",
              "    </tr>\n",
              "    <tr>\n",
              "      <th>1</th>\n",
              "      <td>66933</td>\n",
              "      <td>https://abcmouse.com</td>\n",
              "      <td>ABCmouse.com</td>\n",
              "      <td>Age of Learning, Inc</td>\n",
              "      <td>PreK-12</td>\n",
              "      <td>LC - Digital Learning Platforms</td>\n",
              "    </tr>\n",
              "    <tr>\n",
              "      <th>2</th>\n",
              "      <td>50479</td>\n",
              "      <td>https://www.abcya.com</td>\n",
              "      <td>ABCya!</td>\n",
              "      <td>ABCya.com, LLC</td>\n",
              "      <td>PreK-12</td>\n",
              "      <td>LC - Sites, Resources &amp; Reference - Games &amp; Si...</td>\n",
              "    </tr>\n",
              "    <tr>\n",
              "      <th>3</th>\n",
              "      <td>92993</td>\n",
              "      <td>http://www.aleks.com/</td>\n",
              "      <td>ALEKS</td>\n",
              "      <td>McGraw-Hill PreK-12</td>\n",
              "      <td>PreK-12; Higher Ed</td>\n",
              "      <td>LC - Digital Learning Platforms</td>\n",
              "    </tr>\n",
              "    <tr>\n",
              "      <th>4</th>\n",
              "      <td>73104</td>\n",
              "      <td>https://www.achieve3000.com/</td>\n",
              "      <td>Achieve3000</td>\n",
              "      <td>Achieve3000</td>\n",
              "      <td>PreK-12</td>\n",
              "      <td>LC - Digital Learning Platforms</td>\n",
              "    </tr>\n",
              "  </tbody>\n",
              "</table>\n",
              "</div>"
            ],
            "text/plain": [
              "   LP ID  ...                         Primary Essential Function\n",
              "0  13117  ...                    LC - Digital Learning Platforms\n",
              "1  66933  ...                    LC - Digital Learning Platforms\n",
              "2  50479  ...  LC - Sites, Resources & Reference - Games & Si...\n",
              "3  92993  ...                    LC - Digital Learning Platforms\n",
              "4  73104  ...                    LC - Digital Learning Platforms\n",
              "\n",
              "[5 rows x 6 columns]"
            ]
          },
          "metadata": {},
          "execution_count": 57
        }
      ]
    },
    {
      "cell_type": "code",
      "metadata": {
        "id": "7I-TZ7NBKBRJ",
        "outputId": "8d139450-97fb-4be6-e681-4750317dc98c",
        "colab": {
          "base_uri": "https://localhost:8080/",
          "height": 302
        }
      },
      "source": [
        "import seaborn as sns\n",
        "sns.set_theme(style=\"darkgrid\")\n",
        "sns.barplot(y=district['district_id'],x=district['state'])\n"
      ],
      "execution_count": 80,
      "outputs": [
        {
          "output_type": "execute_result",
          "data": {
            "text/plain": [
              "<matplotlib.axes._subplots.AxesSubplot at 0x7f46f6dbfcd0>"
            ]
          },
          "metadata": {},
          "execution_count": 80
        },
        {
          "output_type": "display_data",
          "data": {
            "image/png": "[encoded data removed]",
            "text/plain": [
              "<Figure size 432x288 with 1 Axes>"
            ]
          },
          "metadata": {}
        }
      ]
    },
    {
      "cell_type": "code",
      "metadata": {
        "id": "HsVoeZONUCIt",
        "outputId": "0484b708-edb5-49db-b414-ee9ef9e6e640",
        "colab": {
          "base_uri": "https://localhost:8080/",
          "height": 302
        }
      },
      "source": [
        "sns.histplot(district['district_id'],)"
      ],
      "execution_count": 81,
      "outputs": [
        {
          "output_type": "execute_result",
          "data": {
            "text/plain": [
              "<matplotlib.axes._subplots.AxesSubplot at 0x7f46f6be4e50>"
            ]
          },
          "metadata": {},
          "execution_count": 81
        },
        {
          "output_type": "display_data",
          "data": {
            "image/png": "[encoded data removed]",
            "text/plain": [
              "<Figure size 432x288 with 1 Axes>"
            ]
          },
          "metadata": {}
        }
      ]
    },
    {
      "cell_type": "code",
      "metadata": {
        "id": "TKZra5uCVGTS"
      },
      "source": [
        ""
      ],
      "execution_count": 86,
      "outputs": []
    }
  ]
}