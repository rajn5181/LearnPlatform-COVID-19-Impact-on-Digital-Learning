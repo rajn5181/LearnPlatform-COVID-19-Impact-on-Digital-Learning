{
  "nbformat": 4,
  "nbformat_minor": 0,
  "metadata": {
    "colab": {
      "name": "Welcome to Colaboratory",
      "provenance": [],
      "collapsed_sections": [],
      "include_colab_link": true
    },
    "kernelspec": {
      "display_name": "Python 3",
      "name": "python3"
    }
  },
  "cells": [
    {
      "cell_type": "markdown",
      "metadata": {
        "id": "view-in-github",
        "colab_type": "text"
      },
      "source": [
        "<a href=\"https://colab.research.google.com/github/rajn5181/LearnPlatform-COVID-19-Impact-on-Digital-Learning/blob/main/LearnPlatform%20COVID-19%20Impact%20on%20Digital%20Learning.ipynb\" target=\"_parent\"><img src=\"https://colab.research.google.com/assets/colab-badge.svg\" alt=\"Open In Colab\"/></a>"
      ]
    },
    {
      "cell_type": "code",
      "metadata": {
        "id": "jS3P6_KilCXt"
      },
      "source": [
        "import pandas as pd\n",
        "import numpy as np\n",
        "import seaborn as sns \n",
        "import matplotlib.pyplot as plt\n",
        "import plotly.express as px\n",
        "%matplotlib inline"
      ],
      "execution_count": 1,
      "outputs": []
    },
    {
      "cell_type": "code",
      "metadata": {
        "colab": {
          "base_uri": "https://localhost:8080/"
        },
        "id": "i_iyUpjJwK3x",
        "outputId": "72908b7e-6448-414e-f2a4-6cc6e2d983f3"
      },
      "source": [
        "!git clone https://github.com/rajn5181/LearnPlatform-COVID-19-Impact-on-Digital-Learning.git"
      ],
      "execution_count": 2,
      "outputs": [
        {
          "output_type": "stream",
          "name": "stdout",
          "text": [
            "fatal: destination path 'LearnPlatform-COVID-19-Impact-on-Digital-Learning' already exists and is not an empty directory.\n"
          ]
        }
      ]
    },
    {
      "cell_type": "code",
      "metadata": {
        "id": "coozMNnmwXh3"
      },
      "source": [
        "district=pd.read_csv('/content/LearnPlatform-COVID-19-Impact-on-Digital-Learning/districts_info[1].csv')\n",
        "products=pd.read_csv('/content/LearnPlatform-COVID-19-Impact-on-Digital-Learning/products_info[1].csv')"
      ],
      "execution_count": 3,
      "outputs": []
    },
    {
      "cell_type": "code",
      "metadata": {
        "id": "iAiLxTvXxyfH",
        "colab": {
          "base_uri": "https://localhost:8080/",
          "height": 203
        },
        "outputId": "fe46b26a-fd1a-4694-fdde-8a7fab65eeae"
      },
      "source": [
        "district.head()"
      ],
      "execution_count": 4,
      "outputs": [
        {
          "output_type": "execute_result",
          "data": {
            "text/html": [
              "<div>\n",
              "<style scoped>\n",
              "    .dataframe tbody tr th:only-of-type {\n",
              "        vertical-align: middle;\n",
              "    }\n",
              "\n",
              "    .dataframe tbody tr th {\n",
              "        vertical-align: top;\n",
              "    }\n",
              "\n",
              "    .dataframe thead th {\n",
              "        text-align: right;\n",
              "    }\n",
              "</style>\n",
              "<table border=\"1\" class=\"dataframe\">\n",
              "  <thead>\n",
              "    <tr style=\"text-align: right;\">\n",
              "      <th></th>\n",
              "      <th>district_id</th>\n",
              "      <th>state</th>\n",
              "      <th>locale</th>\n",
              "      <th>pct_black/hispanic</th>\n",
              "      <th>pct_free/reduced</th>\n",
              "      <th>county_connections_ratio</th>\n",
              "      <th>pp_total_raw</th>\n",
              "    </tr>\n",
              "  </thead>\n",
              "  <tbody>\n",
              "    <tr>\n",
              "      <th>0</th>\n",
              "      <td>8815</td>\n",
              "      <td>Illinois</td>\n",
              "      <td>Suburb</td>\n",
              "      <td>[0, 0.2[</td>\n",
              "      <td>[0, 0.2[</td>\n",
              "      <td>[0.18, 1[</td>\n",
              "      <td>[14000, 16000[</td>\n",
              "    </tr>\n",
              "    <tr>\n",
              "      <th>1</th>\n",
              "      <td>2685</td>\n",
              "      <td>NaN</td>\n",
              "      <td>NaN</td>\n",
              "      <td>NaN</td>\n",
              "      <td>NaN</td>\n",
              "      <td>NaN</td>\n",
              "      <td>NaN</td>\n",
              "    </tr>\n",
              "    <tr>\n",
              "      <th>2</th>\n",
              "      <td>4921</td>\n",
              "      <td>Utah</td>\n",
              "      <td>Suburb</td>\n",
              "      <td>[0, 0.2[</td>\n",
              "      <td>[0.2, 0.4[</td>\n",
              "      <td>[0.18, 1[</td>\n",
              "      <td>[6000, 8000[</td>\n",
              "    </tr>\n",
              "    <tr>\n",
              "      <th>3</th>\n",
              "      <td>3188</td>\n",
              "      <td>NaN</td>\n",
              "      <td>NaN</td>\n",
              "      <td>NaN</td>\n",
              "      <td>NaN</td>\n",
              "      <td>NaN</td>\n",
              "      <td>NaN</td>\n",
              "    </tr>\n",
              "    <tr>\n",
              "      <th>4</th>\n",
              "      <td>2238</td>\n",
              "      <td>NaN</td>\n",
              "      <td>NaN</td>\n",
              "      <td>NaN</td>\n",
              "      <td>NaN</td>\n",
              "      <td>NaN</td>\n",
              "      <td>NaN</td>\n",
              "    </tr>\n",
              "  </tbody>\n",
              "</table>\n",
              "</div>"
            ],
            "text/plain": [
              "   district_id     state  ... county_connections_ratio    pp_total_raw\n",
              "0         8815  Illinois  ...                [0.18, 1[  [14000, 16000[\n",
              "1         2685       NaN  ...                      NaN             NaN\n",
              "2         4921      Utah  ...                [0.18, 1[    [6000, 8000[\n",
              "3         3188       NaN  ...                      NaN             NaN\n",
              "4         2238       NaN  ...                      NaN             NaN\n",
              "\n",
              "[5 rows x 7 columns]"
            ]
          },
          "metadata": {},
          "execution_count": 4
        }
      ]
    },
    {
      "cell_type": "code",
      "metadata": {
        "id": "DMtJiVjqx2Jj",
        "colab": {
          "base_uri": "https://localhost:8080/",
          "height": 203
        },
        "outputId": "5aab05f8-f07f-4ef0-cda4-21af97ce2267"
      },
      "source": [
        "products.head()"
      ],
      "execution_count": 5,
      "outputs": [
        {
          "output_type": "execute_result",
          "data": {
            "text/html": [
              "<div>\n",
              "<style scoped>\n",
              "    .dataframe tbody tr th:only-of-type {\n",
              "        vertical-align: middle;\n",
              "    }\n",
              "\n",
              "    .dataframe tbody tr th {\n",
              "        vertical-align: top;\n",
              "    }\n",
              "\n",
              "    .dataframe thead th {\n",
              "        text-align: right;\n",
              "    }\n",
              "</style>\n",
              "<table border=\"1\" class=\"dataframe\">\n",
              "  <thead>\n",
              "    <tr style=\"text-align: right;\">\n",
              "      <th></th>\n",
              "      <th>LP ID</th>\n",
              "      <th>URL</th>\n",
              "      <th>Product Name</th>\n",
              "      <th>Provider/Company Name</th>\n",
              "      <th>Sector(s)</th>\n",
              "      <th>Primary Essential Function</th>\n",
              "    </tr>\n",
              "  </thead>\n",
              "  <tbody>\n",
              "    <tr>\n",
              "      <th>0</th>\n",
              "      <td>13117</td>\n",
              "      <td>https://www.splashmath.com</td>\n",
              "      <td>SplashLearn</td>\n",
              "      <td>StudyPad Inc.</td>\n",
              "      <td>PreK-12</td>\n",
              "      <td>LC - Digital Learning Platforms</td>\n",
              "    </tr>\n",
              "    <tr>\n",
              "      <th>1</th>\n",
              "      <td>66933</td>\n",
              "      <td>https://abcmouse.com</td>\n",
              "      <td>ABCmouse.com</td>\n",
              "      <td>Age of Learning, Inc</td>\n",
              "      <td>PreK-12</td>\n",
              "      <td>LC - Digital Learning Platforms</td>\n",
              "    </tr>\n",
              "    <tr>\n",
              "      <th>2</th>\n",
              "      <td>50479</td>\n",
              "      <td>https://www.abcya.com</td>\n",
              "      <td>ABCya!</td>\n",
              "      <td>ABCya.com, LLC</td>\n",
              "      <td>PreK-12</td>\n",
              "      <td>LC - Sites, Resources &amp; Reference - Games &amp; Si...</td>\n",
              "    </tr>\n",
              "    <tr>\n",
              "      <th>3</th>\n",
              "      <td>92993</td>\n",
              "      <td>http://www.aleks.com/</td>\n",
              "      <td>ALEKS</td>\n",
              "      <td>McGraw-Hill PreK-12</td>\n",
              "      <td>PreK-12; Higher Ed</td>\n",
              "      <td>LC - Digital Learning Platforms</td>\n",
              "    </tr>\n",
              "    <tr>\n",
              "      <th>4</th>\n",
              "      <td>73104</td>\n",
              "      <td>https://www.achieve3000.com/</td>\n",
              "      <td>Achieve3000</td>\n",
              "      <td>Achieve3000</td>\n",
              "      <td>PreK-12</td>\n",
              "      <td>LC - Digital Learning Platforms</td>\n",
              "    </tr>\n",
              "  </tbody>\n",
              "</table>\n",
              "</div>"
            ],
            "text/plain": [
              "   LP ID  ...                         Primary Essential Function\n",
              "0  13117  ...                    LC - Digital Learning Platforms\n",
              "1  66933  ...                    LC - Digital Learning Platforms\n",
              "2  50479  ...  LC - Sites, Resources & Reference - Games & Si...\n",
              "3  92993  ...                    LC - Digital Learning Platforms\n",
              "4  73104  ...                    LC - Digital Learning Platforms\n",
              "\n",
              "[5 rows x 6 columns]"
            ]
          },
          "metadata": {},
          "execution_count": 5
        }
      ]
    },
    {
      "cell_type": "code",
      "metadata": {
        "id": "TPmbrFaryAYB",
        "colab": {
          "base_uri": "https://localhost:8080/"
        },
        "outputId": "5a9dbe94-e3fb-4cde-e438-af2e1b972a3d"
      },
      "source": [
        "district.info()"
      ],
      "execution_count": 6,
      "outputs": [
        {
          "output_type": "stream",
          "name": "stdout",
          "text": [
            "<class 'pandas.core.frame.DataFrame'>\n",
            "RangeIndex: 233 entries, 0 to 232\n",
            "Data columns (total 7 columns):\n",
            " #   Column                    Non-Null Count  Dtype \n",
            "---  ------                    --------------  ----- \n",
            " 0   district_id               233 non-null    int64 \n",
            " 1   state                     176 non-null    object\n",
            " 2   locale                    176 non-null    object\n",
            " 3   pct_black/hispanic        176 non-null    object\n",
            " 4   pct_free/reduced          148 non-null    object\n",
            " 5   county_connections_ratio  162 non-null    object\n",
            " 6   pp_total_raw              118 non-null    object\n",
            "dtypes: int64(1), object(6)\n",
            "memory usage: 12.9+ KB\n"
          ]
        }
      ]
    },
    {
      "cell_type": "code",
      "metadata": {
        "id": "jIU3gpXFyseo",
        "colab": {
          "base_uri": "https://localhost:8080/"
        },
        "outputId": "e787445a-641f-4b2e-c22e-490829ff6b27"
      },
      "source": [
        "district.shape"
      ],
      "execution_count": 7,
      "outputs": [
        {
          "output_type": "execute_result",
          "data": {
            "text/plain": [
              "(233, 7)"
            ]
          },
          "metadata": {},
          "execution_count": 7
        }
      ]
    },
    {
      "cell_type": "code",
      "metadata": {
        "id": "OYbh7EpByzq4",
        "colab": {
          "base_uri": "https://localhost:8080/"
        },
        "outputId": "5059a363-1ed5-4206-cc28-3463f9b24dbb"
      },
      "source": [
        "district.describe"
      ],
      "execution_count": 8,
      "outputs": [
        {
          "output_type": "execute_result",
          "data": {
            "text/plain": [
              "<bound method NDFrame.describe of      district_id       state  ... county_connections_ratio    pp_total_raw\n",
              "0           8815    Illinois  ...                [0.18, 1[  [14000, 16000[\n",
              "1           2685         NaN  ...                      NaN             NaN\n",
              "2           4921        Utah  ...                [0.18, 1[    [6000, 8000[\n",
              "3           3188         NaN  ...                      NaN             NaN\n",
              "4           2238         NaN  ...                      NaN             NaN\n",
              "..           ...         ...  ...                      ...             ...\n",
              "228         9515    New York  ...                [0.18, 1[  [18000, 20000[\n",
              "229         8103   Tennessee  ...                [0.18, 1[   [8000, 10000[\n",
              "230         4929    Virginia  ...                [0.18, 1[  [12000, 14000[\n",
              "231         7975  California  ...                [0.18, 1[             NaN\n",
              "232         7164  California  ...                [0.18, 1[             NaN\n",
              "\n",
              "[233 rows x 7 columns]>"
            ]
          },
          "metadata": {},
          "execution_count": 8
        }
      ]
    },
    {
      "cell_type": "code",
      "metadata": {
        "id": "JfbGlYKIzMU2",
        "colab": {
          "base_uri": "https://localhost:8080/"
        },
        "outputId": "826b53a6-ba62-468c-c1a4-139d8088ada9"
      },
      "source": [
        "district.isnull().sum(axis=0).sort_values()"
      ],
      "execution_count": 9,
      "outputs": [
        {
          "output_type": "execute_result",
          "data": {
            "text/plain": [
              "district_id                   0\n",
              "state                        57\n",
              "locale                       57\n",
              "pct_black/hispanic           57\n",
              "county_connections_ratio     71\n",
              "pct_free/reduced             85\n",
              "pp_total_raw                115\n",
              "dtype: int64"
            ]
          },
          "metadata": {},
          "execution_count": 9
        }
      ]
    },
    {
      "cell_type": "code",
      "metadata": {
        "id": "0t8fByhcdUHM"
      },
      "source": [
        "d_rows=district.isnull().sum(axis=1).sort_values(ascending=False)"
      ],
      "execution_count": 10,
      "outputs": []
    },
    {
      "cell_type": "code",
      "metadata": {
        "id": "NYAQbgPDzVIj",
        "colab": {
          "base_uri": "https://localhost:8080/"
        },
        "outputId": "fb527cea-cbec-4244-c1d7-b5a2bc9923d3"
      },
      "source": [
        "district.columns"
      ],
      "execution_count": 11,
      "outputs": [
        {
          "output_type": "execute_result",
          "data": {
            "text/plain": [
              "Index(['district_id', 'state', 'locale', 'pct_black/hispanic',\n",
              "       'pct_free/reduced', 'county_connections_ratio', 'pp_total_raw'],\n",
              "      dtype='object')"
            ]
          },
          "metadata": {},
          "execution_count": 11
        }
      ]
    },
    {
      "cell_type": "code",
      "metadata": {
        "id": "RnWSiejbIOBE"
      },
      "source": [
        "district=district.drop(['pp_total_raw'],axis=1)\n"
      ],
      "execution_count": 12,
      "outputs": []
    },
    {
      "cell_type": "code",
      "metadata": {
        "colab": {
          "base_uri": "https://localhost:8080/",
          "height": 203
        },
        "id": "u9Du7nEmKD7Z",
        "outputId": "f2d334c8-d492-46bd-c0a6-8a386537ba26"
      },
      "source": [
        "district.head()"
      ],
      "execution_count": 13,
      "outputs": [
        {
          "output_type": "execute_result",
          "data": {
            "text/html": [
              "<div>\n",
              "<style scoped>\n",
              "    .dataframe tbody tr th:only-of-type {\n",
              "        vertical-align: middle;\n",
              "    }\n",
              "\n",
              "    .dataframe tbody tr th {\n",
              "        vertical-align: top;\n",
              "    }\n",
              "\n",
              "    .dataframe thead th {\n",
              "        text-align: right;\n",
              "    }\n",
              "</style>\n",
              "<table border=\"1\" class=\"dataframe\">\n",
              "  <thead>\n",
              "    <tr style=\"text-align: right;\">\n",
              "      <th></th>\n",
              "      <th>district_id</th>\n",
              "      <th>state</th>\n",
              "      <th>locale</th>\n",
              "      <th>pct_black/hispanic</th>\n",
              "      <th>pct_free/reduced</th>\n",
              "      <th>county_connections_ratio</th>\n",
              "    </tr>\n",
              "  </thead>\n",
              "  <tbody>\n",
              "    <tr>\n",
              "      <th>0</th>\n",
              "      <td>8815</td>\n",
              "      <td>Illinois</td>\n",
              "      <td>Suburb</td>\n",
              "      <td>[0, 0.2[</td>\n",
              "      <td>[0, 0.2[</td>\n",
              "      <td>[0.18, 1[</td>\n",
              "    </tr>\n",
              "    <tr>\n",
              "      <th>1</th>\n",
              "      <td>2685</td>\n",
              "      <td>NaN</td>\n",
              "      <td>NaN</td>\n",
              "      <td>NaN</td>\n",
              "      <td>NaN</td>\n",
              "      <td>NaN</td>\n",
              "    </tr>\n",
              "    <tr>\n",
              "      <th>2</th>\n",
              "      <td>4921</td>\n",
              "      <td>Utah</td>\n",
              "      <td>Suburb</td>\n",
              "      <td>[0, 0.2[</td>\n",
              "      <td>[0.2, 0.4[</td>\n",
              "      <td>[0.18, 1[</td>\n",
              "    </tr>\n",
              "    <tr>\n",
              "      <th>3</th>\n",
              "      <td>3188</td>\n",
              "      <td>NaN</td>\n",
              "      <td>NaN</td>\n",
              "      <td>NaN</td>\n",
              "      <td>NaN</td>\n",
              "      <td>NaN</td>\n",
              "    </tr>\n",
              "    <tr>\n",
              "      <th>4</th>\n",
              "      <td>2238</td>\n",
              "      <td>NaN</td>\n",
              "      <td>NaN</td>\n",
              "      <td>NaN</td>\n",
              "      <td>NaN</td>\n",
              "      <td>NaN</td>\n",
              "    </tr>\n",
              "  </tbody>\n",
              "</table>\n",
              "</div>"
            ],
            "text/plain": [
              "   district_id     state  ... pct_free/reduced county_connections_ratio\n",
              "0         8815  Illinois  ...         [0, 0.2[                [0.18, 1[\n",
              "1         2685       NaN  ...              NaN                      NaN\n",
              "2         4921      Utah  ...       [0.2, 0.4[                [0.18, 1[\n",
              "3         3188       NaN  ...              NaN                      NaN\n",
              "4         2238       NaN  ...              NaN                      NaN\n",
              "\n",
              "[5 rows x 6 columns]"
            ]
          },
          "metadata": {},
          "execution_count": 13
        }
      ]
    },
    {
      "cell_type": "code",
      "metadata": {
        "colab": {
          "base_uri": "https://localhost:8080/"
        },
        "id": "86k-TTqJKJ2V",
        "outputId": "7e2d9452-4ac6-4951-bd57-a307253120f3"
      },
      "source": [
        "district_numeric = district.select_dtypes(include=[np.number])\n",
        "numeric_cols = district_numeric.columns.values\n",
        "print(numeric_cols)"
      ],
      "execution_count": 14,
      "outputs": [
        {
          "output_type": "stream",
          "name": "stdout",
          "text": [
            "['district_id']\n"
          ]
        }
      ]
    },
    {
      "cell_type": "code",
      "metadata": {
        "colab": {
          "base_uri": "https://localhost:8080/"
        },
        "id": "Vv6cuR-XLPKB",
        "outputId": "51f463cc-2383-4668-f086-1728af7d67de"
      },
      "source": [
        "district_numeric = district.select_dtypes(exclude=[np.number])\n",
        "numeric_cols = district_numeric.columns.values\n",
        "print(numeric_cols)"
      ],
      "execution_count": 15,
      "outputs": [
        {
          "output_type": "stream",
          "name": "stdout",
          "text": [
            "['state' 'locale' 'pct_black/hispanic' 'pct_free/reduced'\n",
            " 'county_connections_ratio']\n"
          ]
        }
      ]
    },
    {
      "cell_type": "code",
      "metadata": {
        "colab": {
          "base_uri": "https://localhost:8080/"
        },
        "id": "YF_1t_ycOgzd",
        "outputId": "ce1e007c-54b8-4c7d-b8ca-9e2f0000e270"
      },
      "source": [
        "for col in district.columns:\n",
        "    pct_missing = np.mean(district[col].isnull())\n",
        "    print('{} - {}%'.format(col, round(pct_missing*100)))"
      ],
      "execution_count": 16,
      "outputs": [
        {
          "output_type": "stream",
          "name": "stdout",
          "text": [
            "district_id - 0%\n",
            "state - 24%\n",
            "locale - 24%\n",
            "pct_black/hispanic - 24%\n",
            "pct_free/reduced - 36%\n",
            "county_connections_ratio - 30%\n"
          ]
        }
      ]
    },
    {
      "cell_type": "code",
      "metadata": {
        "colab": {
          "base_uri": "https://localhost:8080/"
        },
        "id": "XuAH_NCkQ6mu",
        "outputId": "239b2696-6b28-48b1-857c-7310d41ed47a"
      },
      "source": [
        "for col in products.columns:\n",
        "    pct_missing = np.mean(products[col].isnull())\n",
        "    print('{} - {}%'.format(col, round(pct_missing*100)))"
      ],
      "execution_count": 17,
      "outputs": [
        {
          "output_type": "stream",
          "name": "stdout",
          "text": [
            "LP ID - 0%\n",
            "URL - 0%\n",
            "Product Name - 0%\n",
            "Provider/Company Name - 0%\n",
            "Sector(s) - 5%\n",
            "Primary Essential Function - 5%\n"
          ]
        }
      ]
    },
    {
      "cell_type": "code",
      "metadata": {
        "colab": {
          "base_uri": "https://localhost:8080/"
        },
        "id": "72T5w7XFRXsh",
        "outputId": "365ada8c-c49e-42ae-faea-6b2ebb68eed0"
      },
      "source": [
        "products['LP ID'].value_counts().sum()"
      ],
      "execution_count": 18,
      "outputs": [
        {
          "output_type": "execute_result",
          "data": {
            "text/plain": [
              "372"
            ]
          },
          "metadata": {},
          "execution_count": 18
        }
      ]
    },
    {
      "cell_type": "code",
      "metadata": {
        "id": "3y0-bNx9f7Uw"
      },
      "source": [
        "df=district.isnull().any(axis=1)"
      ],
      "execution_count": 19,
      "outputs": []
    },
    {
      "cell_type": "code",
      "metadata": {
        "colab": {
          "base_uri": "https://localhost:8080/"
        },
        "id": "ccFIOTafgIHE",
        "outputId": "e3cf8cfc-ad5a-46ba-b7b0-8363bb4c2ca5"
      },
      "source": [
        "df.index"
      ],
      "execution_count": 20,
      "outputs": [
        {
          "output_type": "execute_result",
          "data": {
            "text/plain": [
              "RangeIndex(start=0, stop=233, step=1)"
            ]
          },
          "metadata": {},
          "execution_count": 20
        }
      ]
    },
    {
      "cell_type": "code",
      "metadata": {
        "colab": {
          "base_uri": "https://localhost:8080/"
        },
        "id": "Z0kxBycagLFc",
        "outputId": "5c9bd5ae-ce1e-4cd1-9ded-fe3a36c44814"
      },
      "source": [
        "df.values"
      ],
      "execution_count": 21,
      "outputs": [
        {
          "output_type": "execute_result",
          "data": {
            "text/plain": [
              "array([False,  True, False,  True,  True, False, False, False, False,\n",
              "       False,  True, False, False,  True,  True, False, False,  True,\n",
              "       False,  True, False, False, False,  True, False,  True, False,\n",
              "       False,  True,  True,  True,  True,  True, False, False, False,\n",
              "       False, False, False,  True,  True, False, False,  True, False,\n",
              "       False,  True, False, False,  True, False, False, False, False,\n",
              "       False, False, False, False, False, False,  True, False, False,\n",
              "        True, False, False, False, False,  True, False,  True, False,\n",
              "       False,  True,  True,  True,  True,  True, False, False, False,\n",
              "        True, False, False, False, False,  True,  True,  True, False,\n",
              "       False, False,  True,  True, False, False,  True, False, False,\n",
              "        True,  True,  True, False,  True, False, False,  True,  True,\n",
              "        True, False,  True, False, False, False, False, False, False,\n",
              "        True, False, False,  True, False, False, False, False,  True,\n",
              "       False,  True, False, False, False, False, False,  True, False,\n",
              "       False,  True,  True,  True, False, False, False, False,  True,\n",
              "       False,  True, False, False, False,  True, False, False, False,\n",
              "        True, False,  True,  True, False,  True,  True,  True, False,\n",
              "        True, False,  True, False,  True,  True,  True, False, False,\n",
              "       False, False, False,  True, False,  True,  True, False, False,\n",
              "       False,  True,  True, False, False,  True,  True,  True,  True,\n",
              "        True,  True, False, False,  True, False, False, False, False,\n",
              "       False,  True, False, False, False,  True, False,  True, False,\n",
              "        True,  True,  True,  True,  True,  True, False, False,  True,\n",
              "        True, False, False,  True, False, False,  True,  True, False,\n",
              "        True,  True, False, False,  True, False, False, False])"
            ]
          },
          "metadata": {},
          "execution_count": 21
        }
      ]
    },
    {
      "cell_type": "code",
      "metadata": {
        "colab": {
          "base_uri": "https://localhost:8080/"
        },
        "id": "MESl3SwXgOSf",
        "outputId": "2764ff9c-ebd9-4b5a-e019-c076949d0e2b"
      },
      "source": [
        "df.index[df.values]"
      ],
      "execution_count": 22,
      "outputs": [
        {
          "output_type": "execute_result",
          "data": {
            "text/plain": [
              "Int64Index([  1,   3,   4,  10,  13,  14,  17,  19,  23,  25,  28,  29,  30,\n",
              "             31,  32,  39,  40,  43,  46,  49,  60,  63,  68,  70,  73,  74,\n",
              "             75,  76,  77,  81,  86,  87,  88,  92,  93,  96,  99, 100, 101,\n",
              "            103, 106, 107, 108, 110, 117, 120, 125, 127, 133, 136, 137, 138,\n",
              "            143, 145, 149, 153, 155, 156, 158, 159, 160, 162, 164, 166, 167,\n",
              "            168, 174, 176, 177, 181, 182, 185, 186, 187, 188, 189, 190, 193,\n",
              "            199, 203, 205, 207, 208, 209, 210, 211, 212, 215, 216, 219, 222,\n",
              "            223, 225, 226, 229],\n",
              "           dtype='int64')"
            ]
          },
          "metadata": {},
          "execution_count": 22
        }
      ]
    },
    {
      "cell_type": "code",
      "metadata": {
        "colab": {
          "base_uri": "https://localhost:8080/"
        },
        "id": "tHrt6cqxhuqh",
        "outputId": "64fea2b3-53d9-49ac-b2c0-1fb977a8ea83"
      },
      "source": [
        "index=df.index[df.values]\n",
        "index"
      ],
      "execution_count": 23,
      "outputs": [
        {
          "output_type": "execute_result",
          "data": {
            "text/plain": [
              "Int64Index([  1,   3,   4,  10,  13,  14,  17,  19,  23,  25,  28,  29,  30,\n",
              "             31,  32,  39,  40,  43,  46,  49,  60,  63,  68,  70,  73,  74,\n",
              "             75,  76,  77,  81,  86,  87,  88,  92,  93,  96,  99, 100, 101,\n",
              "            103, 106, 107, 108, 110, 117, 120, 125, 127, 133, 136, 137, 138,\n",
              "            143, 145, 149, 153, 155, 156, 158, 159, 160, 162, 164, 166, 167,\n",
              "            168, 174, 176, 177, 181, 182, 185, 186, 187, 188, 189, 190, 193,\n",
              "            199, 203, 205, 207, 208, 209, 210, 211, 212, 215, 216, 219, 222,\n",
              "            223, 225, 226, 229],\n",
              "           dtype='int64')"
            ]
          },
          "metadata": {},
          "execution_count": 23
        }
      ]
    },
    {
      "cell_type": "code",
      "metadata": {
        "colab": {
          "base_uri": "https://localhost:8080/",
          "height": 417
        },
        "id": "SCiJnUfBkAVR",
        "outputId": "d75d39e0-324c-4570-f9d6-747e9d3cffbd"
      },
      "source": [
        "district.iloc[index,:]  #rows having atleast one missing values"
      ],
      "execution_count": 24,
      "outputs": [
        {
          "output_type": "execute_result",
          "data": {
            "text/html": [
              "<div>\n",
              "<style scoped>\n",
              "    .dataframe tbody tr th:only-of-type {\n",
              "        vertical-align: middle;\n",
              "    }\n",
              "\n",
              "    .dataframe tbody tr th {\n",
              "        vertical-align: top;\n",
              "    }\n",
              "\n",
              "    .dataframe thead th {\n",
              "        text-align: right;\n",
              "    }\n",
              "</style>\n",
              "<table border=\"1\" class=\"dataframe\">\n",
              "  <thead>\n",
              "    <tr style=\"text-align: right;\">\n",
              "      <th></th>\n",
              "      <th>district_id</th>\n",
              "      <th>state</th>\n",
              "      <th>locale</th>\n",
              "      <th>pct_black/hispanic</th>\n",
              "      <th>pct_free/reduced</th>\n",
              "      <th>county_connections_ratio</th>\n",
              "    </tr>\n",
              "  </thead>\n",
              "  <tbody>\n",
              "    <tr>\n",
              "      <th>1</th>\n",
              "      <td>2685</td>\n",
              "      <td>NaN</td>\n",
              "      <td>NaN</td>\n",
              "      <td>NaN</td>\n",
              "      <td>NaN</td>\n",
              "      <td>NaN</td>\n",
              "    </tr>\n",
              "    <tr>\n",
              "      <th>3</th>\n",
              "      <td>3188</td>\n",
              "      <td>NaN</td>\n",
              "      <td>NaN</td>\n",
              "      <td>NaN</td>\n",
              "      <td>NaN</td>\n",
              "      <td>NaN</td>\n",
              "    </tr>\n",
              "    <tr>\n",
              "      <th>4</th>\n",
              "      <td>2238</td>\n",
              "      <td>NaN</td>\n",
              "      <td>NaN</td>\n",
              "      <td>NaN</td>\n",
              "      <td>NaN</td>\n",
              "      <td>NaN</td>\n",
              "    </tr>\n",
              "    <tr>\n",
              "      <th>10</th>\n",
              "      <td>1044</td>\n",
              "      <td>Missouri</td>\n",
              "      <td>Suburb</td>\n",
              "      <td>[0, 0.2[</td>\n",
              "      <td>[0, 0.2[</td>\n",
              "      <td>NaN</td>\n",
              "    </tr>\n",
              "    <tr>\n",
              "      <th>13</th>\n",
              "      <td>5527</td>\n",
              "      <td>Massachusetts</td>\n",
              "      <td>Suburb</td>\n",
              "      <td>[0, 0.2[</td>\n",
              "      <td>NaN</td>\n",
              "      <td>NaN</td>\n",
              "    </tr>\n",
              "    <tr>\n",
              "      <th>...</th>\n",
              "      <td>...</td>\n",
              "      <td>...</td>\n",
              "      <td>...</td>\n",
              "      <td>...</td>\n",
              "      <td>...</td>\n",
              "      <td>...</td>\n",
              "    </tr>\n",
              "    <tr>\n",
              "      <th>222</th>\n",
              "      <td>9463</td>\n",
              "      <td>NaN</td>\n",
              "      <td>NaN</td>\n",
              "      <td>NaN</td>\n",
              "      <td>NaN</td>\n",
              "      <td>NaN</td>\n",
              "    </tr>\n",
              "    <tr>\n",
              "      <th>223</th>\n",
              "      <td>9303</td>\n",
              "      <td>Massachusetts</td>\n",
              "      <td>Suburb</td>\n",
              "      <td>[0, 0.2[</td>\n",
              "      <td>NaN</td>\n",
              "      <td>[0.18, 1[</td>\n",
              "    </tr>\n",
              "    <tr>\n",
              "      <th>225</th>\n",
              "      <td>1965</td>\n",
              "      <td>Massachusetts</td>\n",
              "      <td>Suburb</td>\n",
              "      <td>[0, 0.2[</td>\n",
              "      <td>NaN</td>\n",
              "      <td>[0.18, 1[</td>\n",
              "    </tr>\n",
              "    <tr>\n",
              "      <th>226</th>\n",
              "      <td>5882</td>\n",
              "      <td>Massachusetts</td>\n",
              "      <td>Suburb</td>\n",
              "      <td>[0, 0.2[</td>\n",
              "      <td>NaN</td>\n",
              "      <td>[0.18, 1[</td>\n",
              "    </tr>\n",
              "    <tr>\n",
              "      <th>229</th>\n",
              "      <td>8103</td>\n",
              "      <td>Tennessee</td>\n",
              "      <td>Rural</td>\n",
              "      <td>[0.2, 0.4[</td>\n",
              "      <td>NaN</td>\n",
              "      <td>[0.18, 1[</td>\n",
              "    </tr>\n",
              "  </tbody>\n",
              "</table>\n",
              "<p>95 rows × 6 columns</p>\n",
              "</div>"
            ],
            "text/plain": [
              "     district_id          state  ... pct_free/reduced county_connections_ratio\n",
              "1           2685            NaN  ...              NaN                      NaN\n",
              "3           3188            NaN  ...              NaN                      NaN\n",
              "4           2238            NaN  ...              NaN                      NaN\n",
              "10          1044       Missouri  ...         [0, 0.2[                      NaN\n",
              "13          5527  Massachusetts  ...              NaN                      NaN\n",
              "..           ...            ...  ...              ...                      ...\n",
              "222         9463            NaN  ...              NaN                      NaN\n",
              "223         9303  Massachusetts  ...              NaN                [0.18, 1[\n",
              "225         1965  Massachusetts  ...              NaN                [0.18, 1[\n",
              "226         5882  Massachusetts  ...              NaN                [0.18, 1[\n",
              "229         8103      Tennessee  ...              NaN                [0.18, 1[\n",
              "\n",
              "[95 rows x 6 columns]"
            ]
          },
          "metadata": {},
          "execution_count": 24
        }
      ]
    },
    {
      "cell_type": "code",
      "metadata": {
        "colab": {
          "base_uri": "https://localhost:8080/",
          "height": 1000
        },
        "id": "kGA_zI7XkyS_",
        "outputId": "1156642a-7b6b-4754-fbd5-a8eaa7411508"
      },
      "source": [
        "district[district.isnull().sum(axis=1)>4]    #missing values of more than four missing values"
      ],
      "execution_count": 25,
      "outputs": [
        {
          "output_type": "execute_result",
          "data": {
            "text/html": [
              "<div>\n",
              "<style scoped>\n",
              "    .dataframe tbody tr th:only-of-type {\n",
              "        vertical-align: middle;\n",
              "    }\n",
              "\n",
              "    .dataframe tbody tr th {\n",
              "        vertical-align: top;\n",
              "    }\n",
              "\n",
              "    .dataframe thead th {\n",
              "        text-align: right;\n",
              "    }\n",
              "</style>\n",
              "<table border=\"1\" class=\"dataframe\">\n",
              "  <thead>\n",
              "    <tr style=\"text-align: right;\">\n",
              "      <th></th>\n",
              "      <th>district_id</th>\n",
              "      <th>state</th>\n",
              "      <th>locale</th>\n",
              "      <th>pct_black/hispanic</th>\n",
              "      <th>pct_free/reduced</th>\n",
              "      <th>county_connections_ratio</th>\n",
              "    </tr>\n",
              "  </thead>\n",
              "  <tbody>\n",
              "    <tr>\n",
              "      <th>1</th>\n",
              "      <td>2685</td>\n",
              "      <td>NaN</td>\n",
              "      <td>NaN</td>\n",
              "      <td>NaN</td>\n",
              "      <td>NaN</td>\n",
              "      <td>NaN</td>\n",
              "    </tr>\n",
              "    <tr>\n",
              "      <th>3</th>\n",
              "      <td>3188</td>\n",
              "      <td>NaN</td>\n",
              "      <td>NaN</td>\n",
              "      <td>NaN</td>\n",
              "      <td>NaN</td>\n",
              "      <td>NaN</td>\n",
              "    </tr>\n",
              "    <tr>\n",
              "      <th>4</th>\n",
              "      <td>2238</td>\n",
              "      <td>NaN</td>\n",
              "      <td>NaN</td>\n",
              "      <td>NaN</td>\n",
              "      <td>NaN</td>\n",
              "      <td>NaN</td>\n",
              "    </tr>\n",
              "    <tr>\n",
              "      <th>17</th>\n",
              "      <td>8515</td>\n",
              "      <td>NaN</td>\n",
              "      <td>NaN</td>\n",
              "      <td>NaN</td>\n",
              "      <td>NaN</td>\n",
              "      <td>NaN</td>\n",
              "    </tr>\n",
              "    <tr>\n",
              "      <th>19</th>\n",
              "      <td>2339</td>\n",
              "      <td>NaN</td>\n",
              "      <td>NaN</td>\n",
              "      <td>NaN</td>\n",
              "      <td>NaN</td>\n",
              "      <td>NaN</td>\n",
              "    </tr>\n",
              "    <tr>\n",
              "      <th>23</th>\n",
              "      <td>9120</td>\n",
              "      <td>NaN</td>\n",
              "      <td>NaN</td>\n",
              "      <td>NaN</td>\n",
              "      <td>NaN</td>\n",
              "      <td>NaN</td>\n",
              "    </tr>\n",
              "    <tr>\n",
              "      <th>25</th>\n",
              "      <td>4666</td>\n",
              "      <td>NaN</td>\n",
              "      <td>NaN</td>\n",
              "      <td>NaN</td>\n",
              "      <td>NaN</td>\n",
              "      <td>NaN</td>\n",
              "    </tr>\n",
              "    <tr>\n",
              "      <th>29</th>\n",
              "      <td>1131</td>\n",
              "      <td>NaN</td>\n",
              "      <td>NaN</td>\n",
              "      <td>NaN</td>\n",
              "      <td>NaN</td>\n",
              "      <td>NaN</td>\n",
              "    </tr>\n",
              "    <tr>\n",
              "      <th>30</th>\n",
              "      <td>4591</td>\n",
              "      <td>NaN</td>\n",
              "      <td>NaN</td>\n",
              "      <td>NaN</td>\n",
              "      <td>NaN</td>\n",
              "      <td>NaN</td>\n",
              "    </tr>\n",
              "    <tr>\n",
              "      <th>31</th>\n",
              "      <td>3393</td>\n",
              "      <td>NaN</td>\n",
              "      <td>NaN</td>\n",
              "      <td>NaN</td>\n",
              "      <td>NaN</td>\n",
              "      <td>NaN</td>\n",
              "    </tr>\n",
              "    <tr>\n",
              "      <th>32</th>\n",
              "      <td>3580</td>\n",
              "      <td>NaN</td>\n",
              "      <td>NaN</td>\n",
              "      <td>NaN</td>\n",
              "      <td>NaN</td>\n",
              "      <td>NaN</td>\n",
              "    </tr>\n",
              "    <tr>\n",
              "      <th>43</th>\n",
              "      <td>8685</td>\n",
              "      <td>NaN</td>\n",
              "      <td>NaN</td>\n",
              "      <td>NaN</td>\n",
              "      <td>NaN</td>\n",
              "      <td>NaN</td>\n",
              "    </tr>\n",
              "    <tr>\n",
              "      <th>46</th>\n",
              "      <td>1179</td>\n",
              "      <td>NaN</td>\n",
              "      <td>NaN</td>\n",
              "      <td>NaN</td>\n",
              "      <td>NaN</td>\n",
              "      <td>NaN</td>\n",
              "    </tr>\n",
              "    <tr>\n",
              "      <th>70</th>\n",
              "      <td>8184</td>\n",
              "      <td>NaN</td>\n",
              "      <td>NaN</td>\n",
              "      <td>NaN</td>\n",
              "      <td>NaN</td>\n",
              "      <td>NaN</td>\n",
              "    </tr>\n",
              "    <tr>\n",
              "      <th>73</th>\n",
              "      <td>4029</td>\n",
              "      <td>NaN</td>\n",
              "      <td>NaN</td>\n",
              "      <td>NaN</td>\n",
              "      <td>NaN</td>\n",
              "      <td>NaN</td>\n",
              "    </tr>\n",
              "    <tr>\n",
              "      <th>74</th>\n",
              "      <td>5257</td>\n",
              "      <td>NaN</td>\n",
              "      <td>NaN</td>\n",
              "      <td>NaN</td>\n",
              "      <td>NaN</td>\n",
              "      <td>NaN</td>\n",
              "    </tr>\n",
              "    <tr>\n",
              "      <th>75</th>\n",
              "      <td>5903</td>\n",
              "      <td>NaN</td>\n",
              "      <td>NaN</td>\n",
              "      <td>NaN</td>\n",
              "      <td>NaN</td>\n",
              "      <td>NaN</td>\n",
              "    </tr>\n",
              "    <tr>\n",
              "      <th>76</th>\n",
              "      <td>6165</td>\n",
              "      <td>NaN</td>\n",
              "      <td>NaN</td>\n",
              "      <td>NaN</td>\n",
              "      <td>NaN</td>\n",
              "      <td>NaN</td>\n",
              "    </tr>\n",
              "    <tr>\n",
              "      <th>81</th>\n",
              "      <td>7858</td>\n",
              "      <td>NaN</td>\n",
              "      <td>NaN</td>\n",
              "      <td>NaN</td>\n",
              "      <td>NaN</td>\n",
              "      <td>NaN</td>\n",
              "    </tr>\n",
              "    <tr>\n",
              "      <th>88</th>\n",
              "      <td>5380</td>\n",
              "      <td>NaN</td>\n",
              "      <td>NaN</td>\n",
              "      <td>NaN</td>\n",
              "      <td>NaN</td>\n",
              "      <td>NaN</td>\n",
              "    </tr>\n",
              "    <tr>\n",
              "      <th>92</th>\n",
              "      <td>2017</td>\n",
              "      <td>NaN</td>\n",
              "      <td>NaN</td>\n",
              "      <td>NaN</td>\n",
              "      <td>NaN</td>\n",
              "      <td>NaN</td>\n",
              "    </tr>\n",
              "    <tr>\n",
              "      <th>96</th>\n",
              "      <td>9839</td>\n",
              "      <td>NaN</td>\n",
              "      <td>NaN</td>\n",
              "      <td>NaN</td>\n",
              "      <td>NaN</td>\n",
              "      <td>NaN</td>\n",
              "    </tr>\n",
              "    <tr>\n",
              "      <th>100</th>\n",
              "      <td>7352</td>\n",
              "      <td>NaN</td>\n",
              "      <td>NaN</td>\n",
              "      <td>NaN</td>\n",
              "      <td>NaN</td>\n",
              "      <td>NaN</td>\n",
              "    </tr>\n",
              "    <tr>\n",
              "      <th>101</th>\n",
              "      <td>4749</td>\n",
              "      <td>NaN</td>\n",
              "      <td>NaN</td>\n",
              "      <td>NaN</td>\n",
              "      <td>NaN</td>\n",
              "      <td>NaN</td>\n",
              "    </tr>\n",
              "    <tr>\n",
              "      <th>103</th>\n",
              "      <td>2549</td>\n",
              "      <td>NaN</td>\n",
              "      <td>NaN</td>\n",
              "      <td>NaN</td>\n",
              "      <td>NaN</td>\n",
              "      <td>NaN</td>\n",
              "    </tr>\n",
              "    <tr>\n",
              "      <th>106</th>\n",
              "      <td>3371</td>\n",
              "      <td>NaN</td>\n",
              "      <td>NaN</td>\n",
              "      <td>NaN</td>\n",
              "      <td>NaN</td>\n",
              "      <td>NaN</td>\n",
              "    </tr>\n",
              "    <tr>\n",
              "      <th>107</th>\n",
              "      <td>1584</td>\n",
              "      <td>NaN</td>\n",
              "      <td>NaN</td>\n",
              "      <td>NaN</td>\n",
              "      <td>NaN</td>\n",
              "      <td>NaN</td>\n",
              "    </tr>\n",
              "    <tr>\n",
              "      <th>110</th>\n",
              "      <td>3471</td>\n",
              "      <td>NaN</td>\n",
              "      <td>NaN</td>\n",
              "      <td>NaN</td>\n",
              "      <td>NaN</td>\n",
              "      <td>NaN</td>\n",
              "    </tr>\n",
              "    <tr>\n",
              "      <th>125</th>\n",
              "      <td>3959</td>\n",
              "      <td>NaN</td>\n",
              "      <td>NaN</td>\n",
              "      <td>NaN</td>\n",
              "      <td>NaN</td>\n",
              "      <td>NaN</td>\n",
              "    </tr>\n",
              "    <tr>\n",
              "      <th>133</th>\n",
              "      <td>4203</td>\n",
              "      <td>NaN</td>\n",
              "      <td>NaN</td>\n",
              "      <td>NaN</td>\n",
              "      <td>NaN</td>\n",
              "      <td>NaN</td>\n",
              "    </tr>\n",
              "    <tr>\n",
              "      <th>136</th>\n",
              "      <td>7086</td>\n",
              "      <td>NaN</td>\n",
              "      <td>NaN</td>\n",
              "      <td>NaN</td>\n",
              "      <td>NaN</td>\n",
              "      <td>NaN</td>\n",
              "    </tr>\n",
              "    <tr>\n",
              "      <th>138</th>\n",
              "      <td>7829</td>\n",
              "      <td>NaN</td>\n",
              "      <td>NaN</td>\n",
              "      <td>NaN</td>\n",
              "      <td>NaN</td>\n",
              "      <td>NaN</td>\n",
              "    </tr>\n",
              "    <tr>\n",
              "      <th>143</th>\n",
              "      <td>6049</td>\n",
              "      <td>NaN</td>\n",
              "      <td>NaN</td>\n",
              "      <td>NaN</td>\n",
              "      <td>NaN</td>\n",
              "      <td>NaN</td>\n",
              "    </tr>\n",
              "    <tr>\n",
              "      <th>149</th>\n",
              "      <td>4408</td>\n",
              "      <td>NaN</td>\n",
              "      <td>NaN</td>\n",
              "      <td>NaN</td>\n",
              "      <td>NaN</td>\n",
              "      <td>NaN</td>\n",
              "    </tr>\n",
              "    <tr>\n",
              "      <th>153</th>\n",
              "      <td>6721</td>\n",
              "      <td>NaN</td>\n",
              "      <td>NaN</td>\n",
              "      <td>NaN</td>\n",
              "      <td>NaN</td>\n",
              "      <td>NaN</td>\n",
              "    </tr>\n",
              "    <tr>\n",
              "      <th>155</th>\n",
              "      <td>9729</td>\n",
              "      <td>NaN</td>\n",
              "      <td>NaN</td>\n",
              "      <td>NaN</td>\n",
              "      <td>NaN</td>\n",
              "      <td>NaN</td>\n",
              "    </tr>\n",
              "    <tr>\n",
              "      <th>156</th>\n",
              "      <td>5970</td>\n",
              "      <td>NaN</td>\n",
              "      <td>NaN</td>\n",
              "      <td>NaN</td>\n",
              "      <td>NaN</td>\n",
              "      <td>NaN</td>\n",
              "    </tr>\n",
              "    <tr>\n",
              "      <th>159</th>\n",
              "      <td>8017</td>\n",
              "      <td>NaN</td>\n",
              "      <td>NaN</td>\n",
              "      <td>NaN</td>\n",
              "      <td>NaN</td>\n",
              "      <td>NaN</td>\n",
              "    </tr>\n",
              "    <tr>\n",
              "      <th>162</th>\n",
              "      <td>4937</td>\n",
              "      <td>NaN</td>\n",
              "      <td>NaN</td>\n",
              "      <td>NaN</td>\n",
              "      <td>NaN</td>\n",
              "      <td>NaN</td>\n",
              "    </tr>\n",
              "    <tr>\n",
              "      <th>164</th>\n",
              "      <td>1039</td>\n",
              "      <td>NaN</td>\n",
              "      <td>NaN</td>\n",
              "      <td>NaN</td>\n",
              "      <td>NaN</td>\n",
              "      <td>NaN</td>\n",
              "    </tr>\n",
              "    <tr>\n",
              "      <th>166</th>\n",
              "      <td>6665</td>\n",
              "      <td>NaN</td>\n",
              "      <td>NaN</td>\n",
              "      <td>NaN</td>\n",
              "      <td>NaN</td>\n",
              "      <td>NaN</td>\n",
              "    </tr>\n",
              "    <tr>\n",
              "      <th>167</th>\n",
              "      <td>5057</td>\n",
              "      <td>NaN</td>\n",
              "      <td>NaN</td>\n",
              "      <td>NaN</td>\n",
              "      <td>NaN</td>\n",
              "      <td>NaN</td>\n",
              "    </tr>\n",
              "    <tr>\n",
              "      <th>168</th>\n",
              "      <td>2209</td>\n",
              "      <td>NaN</td>\n",
              "      <td>NaN</td>\n",
              "      <td>NaN</td>\n",
              "      <td>NaN</td>\n",
              "      <td>NaN</td>\n",
              "    </tr>\n",
              "    <tr>\n",
              "      <th>174</th>\n",
              "      <td>8796</td>\n",
              "      <td>NaN</td>\n",
              "      <td>NaN</td>\n",
              "      <td>NaN</td>\n",
              "      <td>NaN</td>\n",
              "      <td>NaN</td>\n",
              "    </tr>\n",
              "    <tr>\n",
              "      <th>181</th>\n",
              "      <td>3301</td>\n",
              "      <td>NaN</td>\n",
              "      <td>NaN</td>\n",
              "      <td>NaN</td>\n",
              "      <td>NaN</td>\n",
              "      <td>NaN</td>\n",
              "    </tr>\n",
              "    <tr>\n",
              "      <th>182</th>\n",
              "      <td>8723</td>\n",
              "      <td>NaN</td>\n",
              "      <td>NaN</td>\n",
              "      <td>NaN</td>\n",
              "      <td>NaN</td>\n",
              "      <td>NaN</td>\n",
              "    </tr>\n",
              "    <tr>\n",
              "      <th>185</th>\n",
              "      <td>6066</td>\n",
              "      <td>NaN</td>\n",
              "      <td>NaN</td>\n",
              "      <td>NaN</td>\n",
              "      <td>NaN</td>\n",
              "      <td>NaN</td>\n",
              "    </tr>\n",
              "    <tr>\n",
              "      <th>186</th>\n",
              "      <td>6131</td>\n",
              "      <td>NaN</td>\n",
              "      <td>NaN</td>\n",
              "      <td>NaN</td>\n",
              "      <td>NaN</td>\n",
              "      <td>NaN</td>\n",
              "    </tr>\n",
              "    <tr>\n",
              "      <th>187</th>\n",
              "      <td>1624</td>\n",
              "      <td>NaN</td>\n",
              "      <td>NaN</td>\n",
              "      <td>NaN</td>\n",
              "      <td>NaN</td>\n",
              "      <td>NaN</td>\n",
              "    </tr>\n",
              "    <tr>\n",
              "      <th>189</th>\n",
              "      <td>8160</td>\n",
              "      <td>NaN</td>\n",
              "      <td>NaN</td>\n",
              "      <td>NaN</td>\n",
              "      <td>NaN</td>\n",
              "      <td>NaN</td>\n",
              "    </tr>\n",
              "    <tr>\n",
              "      <th>190</th>\n",
              "      <td>8702</td>\n",
              "      <td>NaN</td>\n",
              "      <td>NaN</td>\n",
              "      <td>NaN</td>\n",
              "      <td>NaN</td>\n",
              "      <td>NaN</td>\n",
              "    </tr>\n",
              "    <tr>\n",
              "      <th>193</th>\n",
              "      <td>8845</td>\n",
              "      <td>NaN</td>\n",
              "      <td>NaN</td>\n",
              "      <td>NaN</td>\n",
              "      <td>NaN</td>\n",
              "      <td>NaN</td>\n",
              "    </tr>\n",
              "    <tr>\n",
              "      <th>199</th>\n",
              "      <td>4165</td>\n",
              "      <td>NaN</td>\n",
              "      <td>NaN</td>\n",
              "      <td>NaN</td>\n",
              "      <td>NaN</td>\n",
              "      <td>NaN</td>\n",
              "    </tr>\n",
              "    <tr>\n",
              "      <th>210</th>\n",
              "      <td>6774</td>\n",
              "      <td>NaN</td>\n",
              "      <td>NaN</td>\n",
              "      <td>NaN</td>\n",
              "      <td>NaN</td>\n",
              "      <td>NaN</td>\n",
              "    </tr>\n",
              "    <tr>\n",
              "      <th>215</th>\n",
              "      <td>3390</td>\n",
              "      <td>NaN</td>\n",
              "      <td>NaN</td>\n",
              "      <td>NaN</td>\n",
              "      <td>NaN</td>\n",
              "      <td>NaN</td>\n",
              "    </tr>\n",
              "    <tr>\n",
              "      <th>216</th>\n",
              "      <td>5404</td>\n",
              "      <td>NaN</td>\n",
              "      <td>NaN</td>\n",
              "      <td>NaN</td>\n",
              "      <td>NaN</td>\n",
              "      <td>NaN</td>\n",
              "    </tr>\n",
              "    <tr>\n",
              "      <th>222</th>\n",
              "      <td>9463</td>\n",
              "      <td>NaN</td>\n",
              "      <td>NaN</td>\n",
              "      <td>NaN</td>\n",
              "      <td>NaN</td>\n",
              "      <td>NaN</td>\n",
              "    </tr>\n",
              "  </tbody>\n",
              "</table>\n",
              "</div>"
            ],
            "text/plain": [
              "     district_id state  ... pct_free/reduced county_connections_ratio\n",
              "1           2685   NaN  ...              NaN                      NaN\n",
              "3           3188   NaN  ...              NaN                      NaN\n",
              "4           2238   NaN  ...              NaN                      NaN\n",
              "17          8515   NaN  ...              NaN                      NaN\n",
              "19          2339   NaN  ...              NaN                      NaN\n",
              "23          9120   NaN  ...              NaN                      NaN\n",
              "25          4666   NaN  ...              NaN                      NaN\n",
              "29          1131   NaN  ...              NaN                      NaN\n",
              "30          4591   NaN  ...              NaN                      NaN\n",
              "31          3393   NaN  ...              NaN                      NaN\n",
              "32          3580   NaN  ...              NaN                      NaN\n",
              "43          8685   NaN  ...              NaN                      NaN\n",
              "46          1179   NaN  ...              NaN                      NaN\n",
              "70          8184   NaN  ...              NaN                      NaN\n",
              "73          4029   NaN  ...              NaN                      NaN\n",
              "74          5257   NaN  ...              NaN                      NaN\n",
              "75          5903   NaN  ...              NaN                      NaN\n",
              "76          6165   NaN  ...              NaN                      NaN\n",
              "81          7858   NaN  ...              NaN                      NaN\n",
              "88          5380   NaN  ...              NaN                      NaN\n",
              "92          2017   NaN  ...              NaN                      NaN\n",
              "96          9839   NaN  ...              NaN                      NaN\n",
              "100         7352   NaN  ...              NaN                      NaN\n",
              "101         4749   NaN  ...              NaN                      NaN\n",
              "103         2549   NaN  ...              NaN                      NaN\n",
              "106         3371   NaN  ...              NaN                      NaN\n",
              "107         1584   NaN  ...              NaN                      NaN\n",
              "110         3471   NaN  ...              NaN                      NaN\n",
              "125         3959   NaN  ...              NaN                      NaN\n",
              "133         4203   NaN  ...              NaN                      NaN\n",
              "136         7086   NaN  ...              NaN                      NaN\n",
              "138         7829   NaN  ...              NaN                      NaN\n",
              "143         6049   NaN  ...              NaN                      NaN\n",
              "149         4408   NaN  ...              NaN                      NaN\n",
              "153         6721   NaN  ...              NaN                      NaN\n",
              "155         9729   NaN  ...              NaN                      NaN\n",
              "156         5970   NaN  ...              NaN                      NaN\n",
              "159         8017   NaN  ...              NaN                      NaN\n",
              "162         4937   NaN  ...              NaN                      NaN\n",
              "164         1039   NaN  ...              NaN                      NaN\n",
              "166         6665   NaN  ...              NaN                      NaN\n",
              "167         5057   NaN  ...              NaN                      NaN\n",
              "168         2209   NaN  ...              NaN                      NaN\n",
              "174         8796   NaN  ...              NaN                      NaN\n",
              "181         3301   NaN  ...              NaN                      NaN\n",
              "182         8723   NaN  ...              NaN                      NaN\n",
              "185         6066   NaN  ...              NaN                      NaN\n",
              "186         6131   NaN  ...              NaN                      NaN\n",
              "187         1624   NaN  ...              NaN                      NaN\n",
              "189         8160   NaN  ...              NaN                      NaN\n",
              "190         8702   NaN  ...              NaN                      NaN\n",
              "193         8845   NaN  ...              NaN                      NaN\n",
              "199         4165   NaN  ...              NaN                      NaN\n",
              "210         6774   NaN  ...              NaN                      NaN\n",
              "215         3390   NaN  ...              NaN                      NaN\n",
              "216         5404   NaN  ...              NaN                      NaN\n",
              "222         9463   NaN  ...              NaN                      NaN\n",
              "\n",
              "[57 rows x 6 columns]"
            ]
          },
          "metadata": {},
          "execution_count": 25
        }
      ]
    },
    {
      "cell_type": "code",
      "metadata": {
        "colab": {
          "base_uri": "https://localhost:8080/"
        },
        "id": "Qn7Oy3oBpgoM",
        "outputId": "ea4205d1-e394-40c9-eb53-6606e1a6f895"
      },
      "source": [
        "len(district[district.isnull().sum(axis=1)>4])/len(district)*100   #percentage of data with missing value more than ~25%"
      ],
      "execution_count": 26,
      "outputs": [
        {
          "output_type": "execute_result",
          "data": {
            "text/plain": [
              "24.463519313304722"
            ]
          },
          "metadata": {},
          "execution_count": 26
        }
      ]
    },
    {
      "cell_type": "code",
      "metadata": {
        "id": "dpfd6-P5p6SD"
      },
      "source": [
        "district=district[district.isnull().sum(axis=1)<5]"
      ],
      "execution_count": 27,
      "outputs": []
    },
    {
      "cell_type": "code",
      "metadata": {
        "colab": {
          "base_uri": "https://localhost:8080/"
        },
        "id": "KavADL0srAHQ",
        "outputId": "2198541f-6a11-494f-b0ae-2cb0f166ad31"
      },
      "source": [
        "for col in district.columns:\n",
        "  pct_missing=np.mean(district[col].isnull())\n",
        "  print('{}--{}%'.format(col,round(pct_missing)*100))"
      ],
      "execution_count": 28,
      "outputs": [
        {
          "output_type": "stream",
          "name": "stdout",
          "text": [
            "district_id--0%\n",
            "state--0%\n",
            "locale--0%\n",
            "pct_black/hispanic--0%\n",
            "pct_free/reduced--0%\n",
            "county_connections_ratio--0%\n"
          ]
        }
      ]
    },
    {
      "cell_type": "code",
      "metadata": {
        "colab": {
          "base_uri": "https://localhost:8080/"
        },
        "id": "4uq6mo0htB74",
        "outputId": "24ceca1e-64ba-44d2-facb-19e62b8259bd"
      },
      "source": [
        "district.isnull().sum()/len(district)*100"
      ],
      "execution_count": 29,
      "outputs": [
        {
          "output_type": "execute_result",
          "data": {
            "text/plain": [
              "district_id                  0.000000\n",
              "state                        0.000000\n",
              "locale                       0.000000\n",
              "pct_black/hispanic           0.000000\n",
              "pct_free/reduced            15.909091\n",
              "county_connections_ratio     7.954545\n",
              "dtype: float64"
            ]
          },
          "metadata": {},
          "execution_count": 29
        }
      ]
    },
    {
      "cell_type": "code",
      "metadata": {
        "colab": {
          "base_uri": "https://localhost:8080/",
          "height": 203
        },
        "id": "hbVnsyR6tfBr",
        "outputId": "4a2278f6-dafa-4798-873a-09bcf56ed2a4"
      },
      "source": [
        "district=pd.DataFrame(district,columns=['district_id','state','locale'])\n",
        "district.reset_index().head()"
      ],
      "execution_count": 30,
      "outputs": [
        {
          "output_type": "execute_result",
          "data": {
            "text/html": [
              "<div>\n",
              "<style scoped>\n",
              "    .dataframe tbody tr th:only-of-type {\n",
              "        vertical-align: middle;\n",
              "    }\n",
              "\n",
              "    .dataframe tbody tr th {\n",
              "        vertical-align: top;\n",
              "    }\n",
              "\n",
              "    .dataframe thead th {\n",
              "        text-align: right;\n",
              "    }\n",
              "</style>\n",
              "<table border=\"1\" class=\"dataframe\">\n",
              "  <thead>\n",
              "    <tr style=\"text-align: right;\">\n",
              "      <th></th>\n",
              "      <th>index</th>\n",
              "      <th>district_id</th>\n",
              "      <th>state</th>\n",
              "      <th>locale</th>\n",
              "    </tr>\n",
              "  </thead>\n",
              "  <tbody>\n",
              "    <tr>\n",
              "      <th>0</th>\n",
              "      <td>0</td>\n",
              "      <td>8815</td>\n",
              "      <td>Illinois</td>\n",
              "      <td>Suburb</td>\n",
              "    </tr>\n",
              "    <tr>\n",
              "      <th>1</th>\n",
              "      <td>2</td>\n",
              "      <td>4921</td>\n",
              "      <td>Utah</td>\n",
              "      <td>Suburb</td>\n",
              "    </tr>\n",
              "    <tr>\n",
              "      <th>2</th>\n",
              "      <td>5</td>\n",
              "      <td>5987</td>\n",
              "      <td>Wisconsin</td>\n",
              "      <td>Suburb</td>\n",
              "    </tr>\n",
              "    <tr>\n",
              "      <th>3</th>\n",
              "      <td>6</td>\n",
              "      <td>3710</td>\n",
              "      <td>Utah</td>\n",
              "      <td>Suburb</td>\n",
              "    </tr>\n",
              "    <tr>\n",
              "      <th>4</th>\n",
              "      <td>7</td>\n",
              "      <td>7177</td>\n",
              "      <td>North Carolina</td>\n",
              "      <td>Suburb</td>\n",
              "    </tr>\n",
              "  </tbody>\n",
              "</table>\n",
              "</div>"
            ],
            "text/plain": [
              "   index  district_id           state  locale\n",
              "0      0         8815        Illinois  Suburb\n",
              "1      2         4921            Utah  Suburb\n",
              "2      5         5987       Wisconsin  Suburb\n",
              "3      6         3710            Utah  Suburb\n",
              "4      7         7177  North Carolina  Suburb"
            ]
          },
          "metadata": {},
          "execution_count": 30
        }
      ]
    },
    {
      "cell_type": "code",
      "metadata": {
        "colab": {
          "base_uri": "https://localhost:8080/"
        },
        "id": "lQ2NiGJtvWOv",
        "outputId": "b98aea2a-5b5f-4702-b40c-db0397f5a811"
      },
      "source": [
        "products.isnull().sum()/len(products)*100"
      ],
      "execution_count": 31,
      "outputs": [
        {
          "output_type": "execute_result",
          "data": {
            "text/plain": [
              "LP ID                         0.000000\n",
              "URL                           0.000000\n",
              "Product Name                  0.000000\n",
              "Provider/Company Name         0.268817\n",
              "Sector(s)                     5.376344\n",
              "Primary Essential Function    5.376344\n",
              "dtype: float64"
            ]
          },
          "metadata": {},
          "execution_count": 31
        }
      ]
    },
    {
      "cell_type": "code",
      "metadata": {
        "id": "ZDAI1SS8vz9g"
      },
      "source": [
        "products=products.dropna()"
      ],
      "execution_count": 32,
      "outputs": []
    },
    {
      "cell_type": "code",
      "metadata": {
        "colab": {
          "base_uri": "https://localhost:8080/",
          "height": 299
        },
        "id": "LJMd7y_2yJvw",
        "outputId": "806fa27e-758f-41b0-cd07-b893041f83ae"
      },
      "source": [
        "cols=district.columns\n",
        "colours = ['#000099', '#ff0000'] # specify the colours - yellow is missing. red is not missing.\n",
        "sns.heatmap(district[cols].isnull(),cmap=colours)\n",
        "plt.title('Clean data with zero missing value')"
      ],
      "execution_count": 33,
      "outputs": [
        {
          "output_type": "execute_result",
          "data": {
            "text/plain": [
              "Text(0.5, 1.0, 'Clean data with zero missing value')"
            ]
          },
          "metadata": {},
          "execution_count": 33
        },
        {
          "output_type": "display_data",
          "data": {
            "image/png": "[encoded data removed]",
            "text/plain": [
              "<Figure size 432x288 with 2 Axes>"
            ]
          },
          "metadata": {
            "needs_background": "light"
          }
        }
      ]
    },
    {
      "cell_type": "code",
      "metadata": {
        "colab": {
          "base_uri": "https://localhost:8080/",
          "height": 421
        },
        "id": "rFfuwC5gz-C0",
        "outputId": "b62dd36e-966d-4e46-da48-d7875c9d1dfa"
      },
      "source": [
        "cols=products.columns\n",
        "colours=['#ffe552','#ff0000']\n",
        "sns.heatmap(products[cols].isnull(),cmap=colours)\n",
        "plt.title('Clean data with zero missing value')"
      ],
      "execution_count": 34,
      "outputs": [
        {
          "output_type": "execute_result",
          "data": {
            "text/plain": [
              "Text(0.5, 1.0, 'Clean data with zero missing value')"
            ]
          },
          "metadata": {},
          "execution_count": 34
        },
        {
          "output_type": "display_data",
          "data": {
            "image/png": "[encoded data removed]",
            "text/plain": [
              "<Figure size 432x288 with 2 Axes>"
            ]
          },
          "metadata": {
            "needs_background": "light"
          }
        }
      ]
    },
    {
      "cell_type": "code",
      "metadata": {
        "colab": {
          "base_uri": "https://localhost:8080/"
        },
        "id": "UUJPm9IkvIS3",
        "outputId": "721762fa-5300-423a-c904-09ddc8355a70"
      },
      "source": [
        "print(\"District:\",district.shape)\n",
        "print(\"Products:\",products.shape)"
      ],
      "execution_count": 35,
      "outputs": [
        {
          "output_type": "stream",
          "name": "stdout",
          "text": [
            "District: (176, 3)\n",
            "Products: (352, 6)\n"
          ]
        }
      ]
    },
    {
      "cell_type": "code",
      "metadata": {
        "id": "a4QUy8P80KZP",
        "outputId": "bdd0e64f-1bee-4b9e-f892-0bc6a0cb9723",
        "colab": {
          "base_uri": "https://localhost:8080/",
          "height": 203
        }
      },
      "source": [
        "district.head()"
      ],
      "execution_count": 36,
      "outputs": [
        {
          "output_type": "execute_result",
          "data": {
            "text/html": [
              "<div>\n",
              "<style scoped>\n",
              "    .dataframe tbody tr th:only-of-type {\n",
              "        vertical-align: middle;\n",
              "    }\n",
              "\n",
              "    .dataframe tbody tr th {\n",
              "        vertical-align: top;\n",
              "    }\n",
              "\n",
              "    .dataframe thead th {\n",
              "        text-align: right;\n",
              "    }\n",
              "</style>\n",
              "<table border=\"1\" class=\"dataframe\">\n",
              "  <thead>\n",
              "    <tr style=\"text-align: right;\">\n",
              "      <th></th>\n",
              "      <th>district_id</th>\n",
              "      <th>state</th>\n",
              "      <th>locale</th>\n",
              "    </tr>\n",
              "  </thead>\n",
              "  <tbody>\n",
              "    <tr>\n",
              "      <th>0</th>\n",
              "      <td>8815</td>\n",
              "      <td>Illinois</td>\n",
              "      <td>Suburb</td>\n",
              "    </tr>\n",
              "    <tr>\n",
              "      <th>2</th>\n",
              "      <td>4921</td>\n",
              "      <td>Utah</td>\n",
              "      <td>Suburb</td>\n",
              "    </tr>\n",
              "    <tr>\n",
              "      <th>5</th>\n",
              "      <td>5987</td>\n",
              "      <td>Wisconsin</td>\n",
              "      <td>Suburb</td>\n",
              "    </tr>\n",
              "    <tr>\n",
              "      <th>6</th>\n",
              "      <td>3710</td>\n",
              "      <td>Utah</td>\n",
              "      <td>Suburb</td>\n",
              "    </tr>\n",
              "    <tr>\n",
              "      <th>7</th>\n",
              "      <td>7177</td>\n",
              "      <td>North Carolina</td>\n",
              "      <td>Suburb</td>\n",
              "    </tr>\n",
              "  </tbody>\n",
              "</table>\n",
              "</div>"
            ],
            "text/plain": [
              "   district_id           state  locale\n",
              "0         8815        Illinois  Suburb\n",
              "2         4921            Utah  Suburb\n",
              "5         5987       Wisconsin  Suburb\n",
              "6         3710            Utah  Suburb\n",
              "7         7177  North Carolina  Suburb"
            ]
          },
          "metadata": {},
          "execution_count": 36
        }
      ]
    },
    {
      "cell_type": "code",
      "metadata": {
        "id": "cJE7wxEkBD6Q",
        "colab": {
          "base_uri": "https://localhost:8080/",
          "height": 203
        },
        "outputId": "c90289f2-ca34-4912-fc3a-9e343dc86a35"
      },
      "source": [
        "district.head()"
      ],
      "execution_count": 37,
      "outputs": [
        {
          "output_type": "execute_result",
          "data": {
            "text/html": [
              "<div>\n",
              "<style scoped>\n",
              "    .dataframe tbody tr th:only-of-type {\n",
              "        vertical-align: middle;\n",
              "    }\n",
              "\n",
              "    .dataframe tbody tr th {\n",
              "        vertical-align: top;\n",
              "    }\n",
              "\n",
              "    .dataframe thead th {\n",
              "        text-align: right;\n",
              "    }\n",
              "</style>\n",
              "<table border=\"1\" class=\"dataframe\">\n",
              "  <thead>\n",
              "    <tr style=\"text-align: right;\">\n",
              "      <th></th>\n",
              "      <th>district_id</th>\n",
              "      <th>state</th>\n",
              "      <th>locale</th>\n",
              "    </tr>\n",
              "  </thead>\n",
              "  <tbody>\n",
              "    <tr>\n",
              "      <th>0</th>\n",
              "      <td>8815</td>\n",
              "      <td>Illinois</td>\n",
              "      <td>Suburb</td>\n",
              "    </tr>\n",
              "    <tr>\n",
              "      <th>2</th>\n",
              "      <td>4921</td>\n",
              "      <td>Utah</td>\n",
              "      <td>Suburb</td>\n",
              "    </tr>\n",
              "    <tr>\n",
              "      <th>5</th>\n",
              "      <td>5987</td>\n",
              "      <td>Wisconsin</td>\n",
              "      <td>Suburb</td>\n",
              "    </tr>\n",
              "    <tr>\n",
              "      <th>6</th>\n",
              "      <td>3710</td>\n",
              "      <td>Utah</td>\n",
              "      <td>Suburb</td>\n",
              "    </tr>\n",
              "    <tr>\n",
              "      <th>7</th>\n",
              "      <td>7177</td>\n",
              "      <td>North Carolina</td>\n",
              "      <td>Suburb</td>\n",
              "    </tr>\n",
              "  </tbody>\n",
              "</table>\n",
              "</div>"
            ],
            "text/plain": [
              "   district_id           state  locale\n",
              "0         8815        Illinois  Suburb\n",
              "2         4921            Utah  Suburb\n",
              "5         5987       Wisconsin  Suburb\n",
              "6         3710            Utah  Suburb\n",
              "7         7177  North Carolina  Suburb"
            ]
          },
          "metadata": {},
          "execution_count": 37
        }
      ]
    },
    {
      "cell_type": "code",
      "metadata": {
        "id": "luGsUnfeBGo1",
        "colab": {
          "base_uri": "https://localhost:8080/",
          "height": 203
        },
        "outputId": "1e414d7a-34a8-4b56-c575-57a9f43ce4cd"
      },
      "source": [
        "products.head()"
      ],
      "execution_count": 38,
      "outputs": [
        {
          "output_type": "execute_result",
          "data": {
            "text/html": [
              "<div>\n",
              "<style scoped>\n",
              "    .dataframe tbody tr th:only-of-type {\n",
              "        vertical-align: middle;\n",
              "    }\n",
              "\n",
              "    .dataframe tbody tr th {\n",
              "        vertical-align: top;\n",
              "    }\n",
              "\n",
              "    .dataframe thead th {\n",
              "        text-align: right;\n",
              "    }\n",
              "</style>\n",
              "<table border=\"1\" class=\"dataframe\">\n",
              "  <thead>\n",
              "    <tr style=\"text-align: right;\">\n",
              "      <th></th>\n",
              "      <th>LP ID</th>\n",
              "      <th>URL</th>\n",
              "      <th>Product Name</th>\n",
              "      <th>Provider/Company Name</th>\n",
              "      <th>Sector(s)</th>\n",
              "      <th>Primary Essential Function</th>\n",
              "    </tr>\n",
              "  </thead>\n",
              "  <tbody>\n",
              "    <tr>\n",
              "      <th>0</th>\n",
              "      <td>13117</td>\n",
              "      <td>https://www.splashmath.com</td>\n",
              "      <td>SplashLearn</td>\n",
              "      <td>StudyPad Inc.</td>\n",
              "      <td>PreK-12</td>\n",
              "      <td>LC - Digital Learning Platforms</td>\n",
              "    </tr>\n",
              "    <tr>\n",
              "      <th>1</th>\n",
              "      <td>66933</td>\n",
              "      <td>https://abcmouse.com</td>\n",
              "      <td>ABCmouse.com</td>\n",
              "      <td>Age of Learning, Inc</td>\n",
              "      <td>PreK-12</td>\n",
              "      <td>LC - Digital Learning Platforms</td>\n",
              "    </tr>\n",
              "    <tr>\n",
              "      <th>2</th>\n",
              "      <td>50479</td>\n",
              "      <td>https://www.abcya.com</td>\n",
              "      <td>ABCya!</td>\n",
              "      <td>ABCya.com, LLC</td>\n",
              "      <td>PreK-12</td>\n",
              "      <td>LC - Sites, Resources &amp; Reference - Games &amp; Si...</td>\n",
              "    </tr>\n",
              "    <tr>\n",
              "      <th>3</th>\n",
              "      <td>92993</td>\n",
              "      <td>http://www.aleks.com/</td>\n",
              "      <td>ALEKS</td>\n",
              "      <td>McGraw-Hill PreK-12</td>\n",
              "      <td>PreK-12; Higher Ed</td>\n",
              "      <td>LC - Digital Learning Platforms</td>\n",
              "    </tr>\n",
              "    <tr>\n",
              "      <th>4</th>\n",
              "      <td>73104</td>\n",
              "      <td>https://www.achieve3000.com/</td>\n",
              "      <td>Achieve3000</td>\n",
              "      <td>Achieve3000</td>\n",
              "      <td>PreK-12</td>\n",
              "      <td>LC - Digital Learning Platforms</td>\n",
              "    </tr>\n",
              "  </tbody>\n",
              "</table>\n",
              "</div>"
            ],
            "text/plain": [
              "   LP ID  ...                         Primary Essential Function\n",
              "0  13117  ...                    LC - Digital Learning Platforms\n",
              "1  66933  ...                    LC - Digital Learning Platforms\n",
              "2  50479  ...  LC - Sites, Resources & Reference - Games & Si...\n",
              "3  92993  ...                    LC - Digital Learning Platforms\n",
              "4  73104  ...                    LC - Digital Learning Platforms\n",
              "\n",
              "[5 rows x 6 columns]"
            ]
          },
          "metadata": {},
          "execution_count": 38
        }
      ]
    },
    {
      "cell_type": "code",
      "metadata": {
        "id": "7I-TZ7NBKBRJ",
        "colab": {
          "base_uri": "https://localhost:8080/",
          "height": 302
        },
        "outputId": "cea9e9fb-320d-495b-fc53-0114ef4b8df3"
      },
      "source": [
        "import seaborn as sns\n",
        "sns.set_theme(style=\"darkgrid\")\n",
        "sns.barplot(y=district['district_id'],x=district['state'])\n"
      ],
      "execution_count": 39,
      "outputs": [
        {
          "output_type": "execute_result",
          "data": {
            "text/plain": [
              "<matplotlib.axes._subplots.AxesSubplot at 0x7f946f82cb50>"
            ]
          },
          "metadata": {},
          "execution_count": 39
        },
        {
          "output_type": "display_data",
          "data": {
            "image/png": "[encoded data removed]",
            "text/plain": [
              "<Figure size 432x288 with 1 Axes>"
            ]
          },
          "metadata": {}
        }
      ]
    },
    {
      "cell_type": "code",
      "metadata": {
        "id": "HsVoeZONUCIt",
        "colab": {
          "base_uri": "https://localhost:8080/",
          "height": 304
        },
        "outputId": "d0c1645c-f5fe-4768-a969-b82fbc89ccc0"
      },
      "source": [
        "sns.histplot(district['district_id'],)"
      ],
      "execution_count": 40,
      "outputs": [
        {
          "output_type": "execute_result",
          "data": {
            "text/plain": [
              "<matplotlib.axes._subplots.AxesSubplot at 0x7f946f7b34d0>"
            ]
          },
          "metadata": {},
          "execution_count": 40
        },
        {
          "output_type": "display_data",
          "data": {
            "image/png": "[encoded data removed]",
            "text/plain": [
              "<Figure size 432x288 with 1 Axes>"
            ]
          },
          "metadata": {}
        }
      ]
    },
    {
      "cell_type": "code",
      "metadata": {
        "id": "eWhfBG4-VPhe",
        "outputId": "69bd938e-4373-49f8-e7e8-1769cf2ceb36",
        "colab": {
          "base_uri": "https://localhost:8080/",
          "height": 128
        }
      },
      "source": [
        ""
      ],
      "execution_count": 48,
      "outputs": [
        {
          "output_type": "error",
          "ename": "SyntaxError",
          "evalue": "ignored",
          "traceback": [
            "\u001b[0;36m  File \u001b[0;32m\"<ipython-input-48-8fa0f7697409>\"\u001b[0;36m, line \u001b[0;32m5\u001b[0m\n\u001b[0;31m    mode='markers',\u001b[0m\n\u001b[0m       ^\u001b[0m\n\u001b[0;31mSyntaxError\u001b[0m\u001b[0;31m:\u001b[0m invalid syntax\n"
          ]
        }
      ]
    },
    {
      "cell_type": "code",
      "metadata": {
        "id": "UygD-Ld3VPZ2"
      },
      "source": [
        ""
      ],
      "execution_count": null,
      "outputs": []
    }
  ]
}